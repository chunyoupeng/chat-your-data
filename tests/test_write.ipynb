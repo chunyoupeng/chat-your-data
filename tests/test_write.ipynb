{
 "cells": [
  {
   "cell_type": "code",
   "execution_count": 2,
   "metadata": {},
   "outputs": [],
   "source": [
    "from langchain.chains import RetrievalQA, ConversationalRetrievalChain\n",
    "from langchain.output_parsers import ResponseSchema\n",
    "from langchain.output_parsers import StructuredOutputParser\n",
    "from langchain.callbacks.manager import CallbackManager\n",
    "from langchain.prompts.prompt import PromptTemplate\n",
    "from langchain.vectorstores.base import VectorStoreRetriever\n",
    "from langchain.vectorstores.faiss import FAISS\n",
    "from langchain.chat_models import ChatOpenAI\n",
    "from langchain.chat_models import AzureChatOpenAI\n",
    "from langchain.llms import ChatGLM\n",
    "from langchain.chains import LLMChain\n",
    "from langchain.embeddings import HuggingFaceInstructEmbeddings\n",
    "from langchain.chains import RetrievalQAWithSourcesChain\n",
    "from langchain.memory import ConversationBufferMemory, ConversationSummaryMemory, ConversationBufferWindowMemory\n",
    "import pickle\n",
    "from langchain.document_loaders import JSONLoader\n",
    "import sys\n",
    "import os\n",
    "from dotenv import load_dotenv"
   ]
  },
  {
   "cell_type": "code",
   "execution_count": 3,
   "metadata": {},
   "outputs": [
    {
     "ename": "FileNotFoundError",
     "evalue": "[Errno 2] No such file or directory: 'vector_src/mh_src-vectorstore.pkl'",
     "output_type": "error",
     "traceback": [
      "\u001b[0;31m---------------------------------------------------------------------------\u001b[0m",
      "\u001b[0;31mFileNotFoundError\u001b[0m                         Traceback (most recent call last)",
      "\u001b[1;32m/home/dell/Projects/chat-your-data/test_write.ipynb Cell 2\u001b[0m line \u001b[0;36m2\n\u001b[1;32m      <a href='vscode-notebook-cell:/home/dell/Projects/chat-your-data/test_write.ipynb#W1sZmlsZQ%3D%3D?line=0'>1</a>\u001b[0m db_path \u001b[39m=\u001b[39m \u001b[39m\"\u001b[39m\u001b[39mvector_src/mh_src-vectorstore.pkl\u001b[39m\u001b[39m\"\u001b[39m\n\u001b[0;32m----> <a href='vscode-notebook-cell:/home/dell/Projects/chat-your-data/test_write.ipynb#W1sZmlsZQ%3D%3D?line=1'>2</a>\u001b[0m \u001b[39mwith\u001b[39;00m \u001b[39mopen\u001b[39;49m(db_path, \u001b[39m'\u001b[39;49m\u001b[39mrb\u001b[39;49m\u001b[39m'\u001b[39;49m) \u001b[39mas\u001b[39;00m f:\n\u001b[1;32m      <a href='vscode-notebook-cell:/home/dell/Projects/chat-your-data/test_write.ipynb#W1sZmlsZQ%3D%3D?line=2'>3</a>\u001b[0m     db \u001b[39m=\u001b[39m pickle\u001b[39m.\u001b[39mload(f)\n\u001b[1;32m      <a href='vscode-notebook-cell:/home/dell/Projects/chat-your-data/test_write.ipynb#W1sZmlsZQ%3D%3D?line=3'>4</a>\u001b[0m retriever \u001b[39m=\u001b[39m VectorStoreRetriever(vectorstore\u001b[39m=\u001b[39mdb)\n",
      "File \u001b[0;32m~/miniconda3/envs/nlp/lib/python3.11/site-packages/IPython/core/interactiveshell.py:308\u001b[0m, in \u001b[0;36m_modified_open\u001b[0;34m(file, *args, **kwargs)\u001b[0m\n\u001b[1;32m    301\u001b[0m \u001b[39mif\u001b[39;00m file \u001b[39min\u001b[39;00m {\u001b[39m0\u001b[39m, \u001b[39m1\u001b[39m, \u001b[39m2\u001b[39m}:\n\u001b[1;32m    302\u001b[0m     \u001b[39mraise\u001b[39;00m \u001b[39mValueError\u001b[39;00m(\n\u001b[1;32m    303\u001b[0m         \u001b[39mf\u001b[39m\u001b[39m\"\u001b[39m\u001b[39mIPython won\u001b[39m\u001b[39m'\u001b[39m\u001b[39mt let you open fd=\u001b[39m\u001b[39m{\u001b[39;00mfile\u001b[39m}\u001b[39;00m\u001b[39m by default \u001b[39m\u001b[39m\"\u001b[39m\n\u001b[1;32m    304\u001b[0m         \u001b[39m\"\u001b[39m\u001b[39mas it is likely to crash IPython. If you know what you are doing, \u001b[39m\u001b[39m\"\u001b[39m\n\u001b[1;32m    305\u001b[0m         \u001b[39m\"\u001b[39m\u001b[39myou can use builtins\u001b[39m\u001b[39m'\u001b[39m\u001b[39m open.\u001b[39m\u001b[39m\"\u001b[39m\n\u001b[1;32m    306\u001b[0m     )\n\u001b[0;32m--> 308\u001b[0m \u001b[39mreturn\u001b[39;00m io_open(file, \u001b[39m*\u001b[39;49margs, \u001b[39m*\u001b[39;49m\u001b[39m*\u001b[39;49mkwargs)\n",
      "\u001b[0;31mFileNotFoundError\u001b[0m: [Errno 2] No such file or directory: 'vector_src/mh_src-vectorstore.pkl'"
     ]
    }
   ],
   "source": [
    "db_path = \"vector_src/mh_src-vectorstore.pkl\"\n",
    "with open(db_path, 'rb') as f:\n",
    "    db = pickle.load(f)\n",
    "retriever = VectorStoreRetriever(vectorstore=db)\n"
   ]
  },
  {
   "cell_type": "code",
   "execution_count": 2,
   "metadata": {},
   "outputs": [
    {
     "ename": "JSONDecodeError",
     "evalue": "Expecting value: line 1 column 1 (char 0)",
     "output_type": "error",
     "traceback": [
      "\u001b[0;31m---------------------------------------------------------------------------\u001b[0m",
      "\u001b[0;31mJSONDecodeError\u001b[0m                           Traceback (most recent call last)",
      "\u001b[1;32m/home/dell/Project/chat-your-data/test_write.ipynb Cell 3\u001b[0m line \u001b[0;36m7\n\u001b[1;32m      <a href='vscode-notebook-cell:/home/dell/Project/chat-your-data/test_write.ipynb#W2sZmlsZQ%3D%3D?line=1'>2</a>\u001b[0m question \u001b[39m=\u001b[39m \u001b[39m\"\u001b[39m\u001b[39m根据上面的信息, 写出关于雷电天气下民航飞机的飞行风险及预防措施分析的研究目的, 只写一个段落, 作为论文的一部份.要具体的分析,不能笼统的说,有数据就要引用数据.不要用首先然后这种格式,要有连续性,内容必须丰富,字数1000字\u001b[39m\u001b[39m\"\u001b[39m\n\u001b[1;32m      <a href='vscode-notebook-cell:/home/dell/Project/chat-your-data/test_write.ipynb#W2sZmlsZQ%3D%3D?line=2'>3</a>\u001b[0m loader \u001b[39m=\u001b[39m JSONLoader(\n\u001b[1;32m      <a href='vscode-notebook-cell:/home/dell/Project/chat-your-data/test_write.ipynb#W2sZmlsZQ%3D%3D?line=3'>4</a>\u001b[0m     file_path\u001b[39m=\u001b[39m\u001b[39m'\u001b[39m\u001b[39mout/mh_src.json\u001b[39m\u001b[39m'\u001b[39m,\n\u001b[1;32m      <a href='vscode-notebook-cell:/home/dell/Project/chat-your-data/test_write.ipynb#W2sZmlsZQ%3D%3D?line=4'>5</a>\u001b[0m     jq_schema\u001b[39m=\u001b[39m\u001b[39m'\u001b[39m\u001b[39m.[].answer\u001b[39m\u001b[39m'\u001b[39m,\n\u001b[1;32m      <a href='vscode-notebook-cell:/home/dell/Project/chat-your-data/test_write.ipynb#W2sZmlsZQ%3D%3D?line=5'>6</a>\u001b[0m )\n\u001b[0;32m----> <a href='vscode-notebook-cell:/home/dell/Project/chat-your-data/test_write.ipynb#W2sZmlsZQ%3D%3D?line=6'>7</a>\u001b[0m data \u001b[39m=\u001b[39m loader\u001b[39m.\u001b[39;49mload()\n\u001b[1;32m      <a href='vscode-notebook-cell:/home/dell/Project/chat-your-data/test_write.ipynb#W2sZmlsZQ%3D%3D?line=7'>8</a>\u001b[0m \u001b[39mlen\u001b[39m(data)\n",
      "File \u001b[0;32m~/miniconda3/envs/gpt/lib/python3.11/site-packages/langchain/document_loaders/json_loader.py:67\u001b[0m, in \u001b[0;36mJSONLoader.load\u001b[0;34m(self)\u001b[0m\n\u001b[1;32m     65\u001b[0m                 \u001b[39mself\u001b[39m\u001b[39m.\u001b[39m_parse(line, docs)\n\u001b[1;32m     66\u001b[0m \u001b[39melse\u001b[39;00m:\n\u001b[0;32m---> 67\u001b[0m     \u001b[39mself\u001b[39;49m\u001b[39m.\u001b[39;49m_parse(\u001b[39mself\u001b[39;49m\u001b[39m.\u001b[39;49mfile_path\u001b[39m.\u001b[39;49mread_text(encoding\u001b[39m=\u001b[39;49m\u001b[39m\"\u001b[39;49m\u001b[39mutf-8\u001b[39;49m\u001b[39m\"\u001b[39;49m), docs)\n\u001b[1;32m     68\u001b[0m \u001b[39mreturn\u001b[39;00m docs\n",
      "File \u001b[0;32m~/miniconda3/envs/gpt/lib/python3.11/site-packages/langchain/document_loaders/json_loader.py:72\u001b[0m, in \u001b[0;36mJSONLoader._parse\u001b[0;34m(self, content, docs)\u001b[0m\n\u001b[1;32m     70\u001b[0m \u001b[39mdef\u001b[39;00m \u001b[39m_parse\u001b[39m(\u001b[39mself\u001b[39m, content: \u001b[39mstr\u001b[39m, docs: List[Document]) \u001b[39m-\u001b[39m\u001b[39m>\u001b[39m \u001b[39mNone\u001b[39;00m:\n\u001b[1;32m     71\u001b[0m \u001b[39m    \u001b[39m\u001b[39m\"\"\"Convert given content to documents.\"\"\"\u001b[39;00m\n\u001b[0;32m---> 72\u001b[0m     data \u001b[39m=\u001b[39m \u001b[39mself\u001b[39m\u001b[39m.\u001b[39m_jq_schema\u001b[39m.\u001b[39minput(json\u001b[39m.\u001b[39;49mloads(content))\n\u001b[1;32m     74\u001b[0m     \u001b[39m# Perform some validation\u001b[39;00m\n\u001b[1;32m     75\u001b[0m     \u001b[39m# This is not a perfect validation, but it should catch most cases\u001b[39;00m\n\u001b[1;32m     76\u001b[0m     \u001b[39m# and prevent the user from getting a cryptic error later on.\u001b[39;00m\n\u001b[1;32m     77\u001b[0m     \u001b[39mif\u001b[39;00m \u001b[39mself\u001b[39m\u001b[39m.\u001b[39m_content_key \u001b[39mis\u001b[39;00m \u001b[39mnot\u001b[39;00m \u001b[39mNone\u001b[39;00m:\n",
      "File \u001b[0;32m~/miniconda3/envs/gpt/lib/python3.11/json/__init__.py:346\u001b[0m, in \u001b[0;36mloads\u001b[0;34m(s, cls, object_hook, parse_float, parse_int, parse_constant, object_pairs_hook, **kw)\u001b[0m\n\u001b[1;32m    341\u001b[0m     s \u001b[39m=\u001b[39m s\u001b[39m.\u001b[39mdecode(detect_encoding(s), \u001b[39m'\u001b[39m\u001b[39msurrogatepass\u001b[39m\u001b[39m'\u001b[39m)\n\u001b[1;32m    343\u001b[0m \u001b[39mif\u001b[39;00m (\u001b[39mcls\u001b[39m \u001b[39mis\u001b[39;00m \u001b[39mNone\u001b[39;00m \u001b[39mand\u001b[39;00m object_hook \u001b[39mis\u001b[39;00m \u001b[39mNone\u001b[39;00m \u001b[39mand\u001b[39;00m\n\u001b[1;32m    344\u001b[0m         parse_int \u001b[39mis\u001b[39;00m \u001b[39mNone\u001b[39;00m \u001b[39mand\u001b[39;00m parse_float \u001b[39mis\u001b[39;00m \u001b[39mNone\u001b[39;00m \u001b[39mand\u001b[39;00m\n\u001b[1;32m    345\u001b[0m         parse_constant \u001b[39mis\u001b[39;00m \u001b[39mNone\u001b[39;00m \u001b[39mand\u001b[39;00m object_pairs_hook \u001b[39mis\u001b[39;00m \u001b[39mNone\u001b[39;00m \u001b[39mand\u001b[39;00m \u001b[39mnot\u001b[39;00m kw):\n\u001b[0;32m--> 346\u001b[0m     \u001b[39mreturn\u001b[39;00m _default_decoder\u001b[39m.\u001b[39;49mdecode(s)\n\u001b[1;32m    347\u001b[0m \u001b[39mif\u001b[39;00m \u001b[39mcls\u001b[39m \u001b[39mis\u001b[39;00m \u001b[39mNone\u001b[39;00m:\n\u001b[1;32m    348\u001b[0m     \u001b[39mcls\u001b[39m \u001b[39m=\u001b[39m JSONDecoder\n",
      "File \u001b[0;32m~/miniconda3/envs/gpt/lib/python3.11/json/decoder.py:337\u001b[0m, in \u001b[0;36mJSONDecoder.decode\u001b[0;34m(self, s, _w)\u001b[0m\n\u001b[1;32m    332\u001b[0m \u001b[39mdef\u001b[39;00m \u001b[39mdecode\u001b[39m(\u001b[39mself\u001b[39m, s, _w\u001b[39m=\u001b[39mWHITESPACE\u001b[39m.\u001b[39mmatch):\n\u001b[1;32m    333\u001b[0m \u001b[39m    \u001b[39m\u001b[39m\"\"\"Return the Python representation of ``s`` (a ``str`` instance\u001b[39;00m\n\u001b[1;32m    334\u001b[0m \u001b[39m    containing a JSON document).\u001b[39;00m\n\u001b[1;32m    335\u001b[0m \n\u001b[1;32m    336\u001b[0m \u001b[39m    \"\"\"\u001b[39;00m\n\u001b[0;32m--> 337\u001b[0m     obj, end \u001b[39m=\u001b[39m \u001b[39mself\u001b[39;49m\u001b[39m.\u001b[39;49mraw_decode(s, idx\u001b[39m=\u001b[39;49m_w(s, \u001b[39m0\u001b[39;49m)\u001b[39m.\u001b[39;49mend())\n\u001b[1;32m    338\u001b[0m     end \u001b[39m=\u001b[39m _w(s, end)\u001b[39m.\u001b[39mend()\n\u001b[1;32m    339\u001b[0m     \u001b[39mif\u001b[39;00m end \u001b[39m!=\u001b[39m \u001b[39mlen\u001b[39m(s):\n",
      "File \u001b[0;32m~/miniconda3/envs/gpt/lib/python3.11/json/decoder.py:355\u001b[0m, in \u001b[0;36mJSONDecoder.raw_decode\u001b[0;34m(self, s, idx)\u001b[0m\n\u001b[1;32m    353\u001b[0m     obj, end \u001b[39m=\u001b[39m \u001b[39mself\u001b[39m\u001b[39m.\u001b[39mscan_once(s, idx)\n\u001b[1;32m    354\u001b[0m \u001b[39mexcept\u001b[39;00m \u001b[39mStopIteration\u001b[39;00m \u001b[39mas\u001b[39;00m err:\n\u001b[0;32m--> 355\u001b[0m     \u001b[39mraise\u001b[39;00m JSONDecodeError(\u001b[39m\"\u001b[39m\u001b[39mExpecting value\u001b[39m\u001b[39m\"\u001b[39m, s, err\u001b[39m.\u001b[39mvalue) \u001b[39mfrom\u001b[39;00m \u001b[39mNone\u001b[39;00m\n\u001b[1;32m    356\u001b[0m \u001b[39mreturn\u001b[39;00m obj, end\n",
      "\u001b[0;31mJSONDecodeError\u001b[0m: Expecting value: line 1 column 1 (char 0)"
     ]
    }
   ],
   "source": [
    "from langchain.document_loaders import JSONLoader\n",
    "question = \"根据上面的信息, 写出关于雷电天气下民航飞机的飞行风险及预防措施分析的研究目的, 只写一个段落, 作为论文的一部份.要具体的分析,不能笼统的说,有数据就要引用数据.不要用首先然后这种格式,要有连续性,内容必须丰富,字数1000字\"\n",
    "loader = JSONLoader(\n",
    "    file_path='out/mh_src.json',\n",
    "    jq_schema='.[].answer',\n",
    ")\n",
    "data = loader.load()\n",
    "len(data)"
   ]
  },
  {
   "cell_type": "code",
   "execution_count": 1,
   "metadata": {},
   "outputs": [
    {
     "name": "stdout",
     "output_type": "stream",
     "text": [
      "Collecting jq\n",
      "\u001b[33m  WARNING: Retrying (Retry(total=4, connect=None, read=None, redirect=None, status=None)) after connection broken by 'ProxyError('Cannot connect to proxy.', TimeoutError('_ssl.c:989: The handshake operation timed out'))': /packages/92/49/40fe48fe6abe69c1db08f6095920f663e31a28732cd600a8f7039e0a00a5/jq-1.6.0-cp311-cp311-manylinux_2_17_x86_64.manylinux2014_x86_64.whl.metadata\u001b[0m\u001b[33m\n",
      "\u001b[0m\u001b[33m  WARNING: Retrying (Retry(total=3, connect=None, read=None, redirect=None, status=None)) after connection broken by 'ProxyError('Cannot connect to proxy.', TimeoutError('_ssl.c:989: The handshake operation timed out'))': /packages/92/49/40fe48fe6abe69c1db08f6095920f663e31a28732cd600a8f7039e0a00a5/jq-1.6.0-cp311-cp311-manylinux_2_17_x86_64.manylinux2014_x86_64.whl.metadata\u001b[0m\u001b[33m\n",
      "\u001b[0m\u001b[33m  WARNING: Retrying (Retry(total=2, connect=None, read=None, redirect=None, status=None)) after connection broken by 'ProxyError('Cannot connect to proxy.', TimeoutError('_ssl.c:989: The handshake operation timed out'))': /packages/92/49/40fe48fe6abe69c1db08f6095920f663e31a28732cd600a8f7039e0a00a5/jq-1.6.0-cp311-cp311-manylinux_2_17_x86_64.manylinux2014_x86_64.whl.metadata\u001b[0m\u001b[33m\n",
      "\u001b[0m  Downloading jq-1.6.0-cp311-cp311-manylinux_2_17_x86_64.manylinux2014_x86_64.whl.metadata (6.8 kB)\n",
      "Downloading jq-1.6.0-cp311-cp311-manylinux_2_17_x86_64.manylinux2014_x86_64.whl (666 kB)\n",
      "\u001b[2K   \u001b[90m━━━━━━━━━━━━━━━━━━━━━━━━━━━━━━━━━━━━━━━━\u001b[0m \u001b[32m666.0/666.0 kB\u001b[0m \u001b[31m2.1 MB/s\u001b[0m eta \u001b[36m0:00:00\u001b[0m00:01\u001b[0m00:01\u001b[0mm\n",
      "\u001b[?25hInstalling collected packages: jq\n",
      "Successfully installed jq-1.6.0\n"
     ]
    }
   ],
   "source": [
    "\n",
    "!pip install jq"
   ]
  },
  {
   "cell_type": "code",
   "execution_count": 14,
   "metadata": {},
   "outputs": [
    {
     "data": {
      "text/plain": [
       "161"
      ]
     },
     "execution_count": 14,
     "metadata": {},
     "output_type": "execute_result"
    }
   ],
   "source": [
    "len(data[0].page_content)"
   ]
  },
  {
   "cell_type": "code",
   "execution_count": 4,
   "metadata": {},
   "outputs": [
    {
     "name": "stderr",
     "output_type": "stream",
     "text": [
      "No sentence-transformers model found with name ../models/stella-large-zh-v2. Creating a new one with MEAN pooling.\n"
     ]
    }
   ],
   "source": [
    "embeddings = HuggingFaceInstructEmbeddings(model_name=\"../models/stella-large-zh-v2\")\n",
    "vectorstore = FAISS.from_documents(data, embeddings)"
   ]
  },
  {
   "cell_type": "code",
   "execution_count": 60,
   "metadata": {},
   "outputs": [
    {
     "name": "stdout",
     "output_type": "stream",
     "text": [
      "4\n",
      "\n",
      " 在绪论中，作者杨清华提到了当前航空飞行安全面临的重要性和挑战，特别是在雷雨天气条件下，航空飞行安全面临着更大的风险。这一背景下，保障航空飞行安全成为航空领域关注的焦点。作者还强调了航空气象工作的重要性，以及其在保障航空安全中的关键作用。\n",
      "\n",
      "这些研究背景为我们理解本文的研究目的和意义提供了重要的线索。通过分析雷雨天气条件下保障航空飞行安全的有效措施，本文旨在探讨在这种特殊环境下如何更好地保障飞行员和乘客的生命安全。这不仅对航空行业具有重要意义，而且对我国航空事业的发展和壮大也具有深远的意义。\n",
      "\n",
      "此外，作者还提到了一些相关关键词，如“雷雨天气条件下保障航空飞行安全的有效措施”、“中国期刊网”等，为我们进一步了解该领域的最新动态和研究热点提供了参考。总之，在总结和提炼文本内容的基础上，我们可以看出作者的研究背景具有一定的深度和广度，为理解和把握本文的核心内容和观点奠定了基础。\n",
      "\n",
      " 在绪论中，作者杨清华提到了当前关于飞机飞行影响及安全管控的研究背景。其中，一篇关于雷雨天气条件下保障航空飞行安全的有效措施的研究，以及一篇关于2023年10月的《中国科技信息》杂志上发表了多篇文章，涵盖了计算机网络工程、暖通工程施工、生物化工产品项目、工程造价管理等多个领域。这些背景信息为我们理解本文的研究目的和意义提供了重要的帮助。\n",
      "\n",
      "首先，飞机飞行的安全和管控是航空业最重要的任务之一。在复杂的天气条件下，如雷雨天气，飞行安全面临着巨大的挑战。因此，研究如何在这样的天气条件下保障飞行安全，对于航空业的发展具有重要意义。其次，《中国科技信息》杂志上的多篇文章涉及了多个领域，展示了我国在这些领域的最新研究成果和技术应用，为读者提供了丰富的知识资源。\n",
      "\n",
      "综上所述，了解这些研究背景有助于我们更好地理解本文的研究目的和意义。本文可能会探讨雷雨天气条件下保障航空飞行安全的有效措施，并分析这些措施在实际操作中的效果和可行性。同时，文章也可能会关注这些措施在提高航空业整体安全水平方面的作用，为我国航空业的安全发展提供理论支持和实践指导。\n",
      "\n",
      " 在文章的结语部分，作者对本文的研究方法、结论或观点进行了概括和评价。通过对现有研究的分析，作者指出，飞行安全是航空业的核心问题，而雷雨天气对飞行的影响不容忽视。作者对本文的研究方法、结论或观点进行了详细阐述，强调了小学数学课堂参与式教学在提高学生兴趣和参与度方面的积极作用。同时，作者对后续研究的启示和建议进行了深入探讨，包括进一步研究雷雨天气中电击对飞行的具体影响机制，以及探讨其他可能影响飞行安全的因素。这些评价和建议对于后续研究具有重要的指导意义，有助于我们更加深入地了解飞行安全的相关问题，为我国航空业的持续发展提供有力支持。\n",
      "\n",
      " 在现代社会，随着科技的飞速发展，航空运输已成为人们出行的重要方式之一。然而，飞机飞行也带来了一定的安全隐患。因此，如何保障航空飞行的安全，成为了各国航空公司和政府部门关注的焦点。本文将探讨雷雨天气条件下保障航空飞行安全的有效措施。\n",
      "\n",
      "首先，我们需要认识到雷雨天气对航空飞行的影响。据中国期刊网（https:/// thesis/view/25626491/3）的研究显示，雷雨天气会对飞机的电子设备和通信系统产生干扰，从而影响飞机的正常运行。此外，雷雨天气还会导致飞机的发动机进水，从而影响飞机的动力性能。因此，在雷雨天气条件下保障航空飞行的安全显得尤为重要。\n",
      "\n",
      "为了应对这些问题，研究者们提出了一系列的有效措施。例如，在《教学与研究》2022年13期中，作者们通过对小学数学课堂参与式教学的应用实践研究，发现这种教学方法可以提高学生的学习兴趣和参与度，进而提高教学质量。而在《教学与研究》2022年13期中，作者们则关注了电击对飞行的影响及对策，认为在雷雨天气中，采取正确的操作和预防措施可以有效地降低电击对飞行的影响。\n",
      "\n",
      "综上所述，在雷雨天气条件下，保障航空飞行的安全需要多方面的努力。不仅需要航空公司和政府部门采取合理的措施和技术，还需要飞行员和地面工作人员的高度警惕和熟练操作。只有这样，才能确保航空运输的安全和稳定发展。\n"
     ]
    }
   ],
   "source": [
    "retriever = vectorstore.as_retriever()\n",
    "tmp_ques = \"关于雷电天气下民航飞机的飞行风险及预防措施分析的研究目的\"\n",
    "ds = retriever.get_relevant_documents(query=tmp_ques, top_k=10)\n",
    "ans = '\\n'.join([d.page_content for d in ds])\n",
    "print(len(ds))\n",
    "print(ans)"
   ]
  },
  {
   "cell_type": "code",
   "execution_count": 61,
   "metadata": {},
   "outputs": [
    {
     "name": "stdout",
     "output_type": "stream",
     "text": [
      "在本研究中，我们将深入探讨雷雨天气条件下航空飞行安全的重要性和挑战，以及如何通过有效的措施来保障飞行员和乘客的生命安全。据中国期刊网的研究显示，雷雨天气会对飞机的电子设备和通信系统产生干扰，从而影响飞机的正常运行。此外，雷雨天气还会导致飞机的发动机进水，从而影响飞机的动力性能。这些都是雷雨天气对航空飞行带来的具体风险。为了应对这些风险，我们需要采取一系列的预防措施。在《教学与研究》2022年13期中，作者们关注了电击对飞行的影响及对策，认为在雷雨天气中，采取正确的操作和预防措施可以有效地降低电击对飞行的影响。这些研究为我们提供了宝贵的参考，但我们还需要进一步研究其他可能影响飞行安全的因素，以及如何通过技术和管理手段来降低这些风险。我们的研究不仅对航空行业具有重要意义，而且对我国航空事业的发展和壮大也具有深远的意义。"
     ]
    }
   ],
   "source": [
    "from langchain.prompts import PromptTemplate\n",
    "from langchain.chains import LLMChain\n",
    "from langchain.schema import HumanMessage\n",
    "from query_data import get_llm\n",
    "# llm = get_llm('openai')\n",
    "\n",
    "llm = ChatOpenAI(\n",
    "    openai_api_base=\"https://aiapi.xing-yun.cn/v1\",\n",
    "    openai_api_key=\"sk-3e5wTBAl2iFDvQvW9b5693C90a97425eBf3b4bEa558eC66a\",\n",
    "    temperature=0.0,\n",
    "    model_name=\"gpt-4\",\n",
    "    streaming=True,  # ! important\n",
    "    callbacks=[StreamingStdOutCallbackHandler()]  # ! important\n",
    ")\n",
    "QA_PROMPT = PromptTemplate(\n",
    "    input_variables=[\"query\", \"contexts\"],\n",
    "    template=\"\"\"You are a helpful assistant who answers user queries using the\n",
    "    contexts provided. If the question cannot be answered using the information\n",
    "    provided say \"I don't know\".\n",
    "\n",
    "    Contexts:\n",
    "    {contexts}\n",
    "\n",
    "    Question: {query}\"\"\",\n",
    ")\n",
    "\n",
    "# Chain\n",
    "qa_chain = LLMChain(llm=llm, prompt=QA_PROMPT)\n",
    "out = qa_chain(\n",
    "    inputs={\n",
    "        \"query\": question,\n",
    "        \"contexts\": ans,\n",
    "    }\n",
    ")"
   ]
  },
  {
   "cell_type": "code",
   "execution_count": null,
   "metadata": {},
   "outputs": [],
   "source": [
    "llm = ChatOpenAI(\n",
    "    openai_api_base=\"https://flag.smarttrot.com/v1\",\n",
    "    openai_api_key=\"zk-f93e9d498ec12c0b40e2207cec533e1f\",\n",
    "    temperature=0.0,\n",
    "    model_name=\"gpt-3.5-turbo\",\n",
    "    streaming=True,  # ! important\n",
    "    callbacks=[StreamingStdOutCallbackHandler()]  # ! important\n",
    ")\n",
    "llm([HumanMessage(content=question)])"
   ]
  },
  {
   "cell_type": "code",
   "execution_count": 56,
   "metadata": {},
   "outputs": [
    {
     "name": "stdout",
     "output_type": "stream",
     "text": [
      "根据上述提供的信息，雷雨天气对民航飞机的飞行安全构成了重大的风险。雷雨天气可能导致飞机电子设备和通信系统干扰，影响飞机的正常运行。此外，雷雨天气还可能导致飞机发动机进水，进而影响飞机的动力性能。因此，本研究的目的是通过分析雷雨天气下民航飞机的飞行风险，并提出相应的预防措施，以保障飞行安全。通过引用中国期刊网的研究数据，可以进一步支持和论证飞机在雷雨天气下的飞行风险，并提供相关的预防措施和技术应用。此外，还可以参考《教学与研究》杂志中关于小学数学课堂参与式教学和电击对飞行的影响及对策的研究，以丰富论文的内容和论证。通过深入分析和综合研究，本文旨在为民航飞机在雷雨天气下的飞行风险评估和预防提供理论支持和实践指导。\n"
     ]
    }
   ],
   "source": [
    "print(out[\"text\"])"
   ]
  },
  {
   "cell_type": "code",
   "execution_count": 52,
   "metadata": {},
   "outputs": [
    {
     "name": "stdout",
     "output_type": "stream",
     "text": [
      "content=\"\\n Once upon a time, in a land far away, there was a beautiful princess named Rose. She lived in a magnificent castle with her parents, the king and queen, and their loyal subjects. Rose was known throughout the kingdom for her kindness, intelligence, and grace. She was loved by all who knew her, and she spent her days helping those in need and bringing joy to those around her.\\n\\nOne day, a wicked witch cast a spell on the princess, putting her into a deep sleep. The witch had been jealous of Rose's beauty and wanted to keep her asleep forever. The king and queen were devastated by the news, and they asked their best scientists and doctors to find a way to break the witch's spell.\\n\\nAfter much research and experimentation, the scientists discovered that the only way to break the spell was to find the witch's crystal ball and destroy it. The king and queen set out on a dangerous journey to find the crystal ball, accompanied by their bravest knights.\\n\\nAfter many adventures and challenges, they finally found the witch's castle. The witch was not expecting them and was caught off guard. The king and queen fought bravely, but the witch was too powerful. Just when all hope seemed lost, Rose woke up from her sleep.\\n\\nRose was confused and disoriented at first, but then she remembered the danger she was in and sprang into action. With her intelligence and courage, she outwitted the witch and destroyed the crystal ball. The witch was defeated, and Rose was finally awake.\\n\\nThe king and queen returned home, where they were greeted as heroes. Rose was hailed as a hero by all who knew her, and she lived happily ever after.\"\n"
     ]
    }
   ],
   "source": [
    "import os\n",
    "from langchain.chat_models import ChatOpenAI\n",
    "from langchain.callbacks.streaming_stdout import StreamingStdOutCallbackHandler\n",
    "\n",
    "\n",
    "llm = get_llm('local')\n",
    "from langchain.schema import HumanMessage\n",
    "\n",
    "# create messages to be passed to chat LLM\n",
    "messages = [HumanMessage(content=\"tell me a long story\")]\n",
    "\n",
    "print(llm(messages))"
   ]
  },
  {
   "cell_type": "code",
   "execution_count": null,
   "metadata": {},
   "outputs": [],
   "source": [
    "openai_llm = ChatOpenAI(\n",
    "    model=\"gpt-3.5-turbo\",\n",
    "    openai_api_base=\"https://aiapi.xing-yun.cn/v1\",\n",
    "    openai_api_key=\"sk-3e5wTBAl2iFDvQvW9b5693C90a97425eBf3b4bEa558eC66a\",\n",
    "    streaming=True,\n",
    "    callbacks=[StreamingStdOutCallbackHandler()],\n",
    "    temperature=0.3\n",
    ")\n",
    "\n",
    "messages = [HumanMessage(content=\"给我讲一个长故事\")]\n",
    "\n",
    "openai_llm(messages)"
   ]
  },
  {
   "cell_type": "code",
   "execution_count": 37,
   "metadata": {},
   "outputs": [
    {
     "name": "stdout",
     "output_type": "stream",
     "text": [
      "根据上述信息，本文的研究目的是分析雷电天气下民航飞机的飞行风险，并提出相应的预防措施。雷雨天气对航空飞行安全造成了重大威胁，包括对飞机的电子设备和通信系统的干扰，以及发动机进水等问题。为了保障航空飞行的安全，本文将通过对雷电天气下民航飞机飞行风险的深入分析，探讨有效的预防措施。具体而言，本文将通过引用中国期刊网的研究数据，分析雷雨天气对飞机电子设备和通信系统的干扰程度，并提出相应的技术改进和设备保护措施。同时，本文还将探讨雷雨天气对飞机发动机进水的影响机制，并提出相应的预防措施，如改进发动机设计和加强防水措施。此外，本文还将关注飞行员的培训和操作规范，提出在雷电天气下的飞行操作指南，以提高飞行员的应对能力和飞行安全水平。通过这些研究内容，本文旨在为民航飞机在雷电天气下的飞行风险评估和预防提供理论支持和实践指导，为航空业的安全发展做出贡献。\n"
     ]
    }
   ],
   "source": [
    "print(out['text'])"
   ]
  },
  {
   "cell_type": "markdown",
   "metadata": {},
   "source": [
    "根据上述提供的信息，本文旨在通过分析雷雨天气条件下民航飞机的飞行风险及预防措施，探讨如何更好地保障飞行员和乘客的生命安全。雷雨天气对飞机的电子设备和通信系统产生干扰，可能影响飞机的正常运行；同时，雷雨天气还可能导致飞机的发动机进水，影响飞机的动力性能。因此，本文将通过引用中国期刊网的研究数据，详细分析雷雨天气对民航飞机飞行的具体风险，并提出相应的预防措施。其中，可以引用《教学与研究》2022年13期的研究，探讨小学数学课堂参与式教学的应用实践，以及采取正确的操作和预防措施降低电击对飞行的影响。通过这些研究分析，本文旨在为航空行业提供具体有效的措施，以确保在雷雨天气条件下民航飞机的飞行安全，为航空业的发展和乘客的安全提供理论支持和实践指导。"
   ]
  },
  {
   "cell_type": "code",
   "execution_count": 19,
   "metadata": {},
   "outputs": [],
   "source": [
    "from langchain.llms import QianfanLLMEndpoint\n",
    "import os\n",
    "\n",
    "os.environ[\"QIANFAN_AK\"] = \"vt15bg4vtB5usAD4g1dI7EPE\"\n",
    "os.environ[\"QIANFAN_SK\"] = \"Zp80nXaC5BoXbDoTRiRiRf6GlkhYYQGg\"\n",
    "\n",
    "llm = QianfanLLMEndpoint(streaming=True)"
   ]
  },
  {
   "cell_type": "code",
   "execution_count": 4,
   "metadata": {},
   "outputs": [
    {
     "data": {
      "text/plain": [
       "AIMessage(content='\\n 从前，在一个遥远的国度里，有一个美丽的村庄。这个村庄四面环山，风景如画，人们过着和谐安宁的生活。村子里有一位聪明、善良的少年，名叫小明。他乐于助人，因此深受村民们的喜爱。\\n\\n有一天，村子附近的一座山发生了滑坡，巨石滚下山坡，堵住了村子里唯一的一条河流。这使得村民们生活陷入困境，粮食和水源都面临短缺。面对这种情况，村里的长者们感到非常忧虑，他们决定向国王求助。\\n\\n国王得知这个消息后，立即派出了一位勇敢的骑士去解决这个难题。骑士历经千辛万苦，终于找到了一位神秘的智者。智者告诉骑士，要解决这个问题，就必须找到那座山上被滚落的巨石。\\n\\n于是，骑士带着智者的指引，开始了艰苦的攀爬。经过几天的努力，骑士终于成功地找到了那块巨石。他费尽了九牛二虎之力，将巨石搬到了河边。河水恢复了流淌，村民们的生活也得以恢复正常的生产和生活。\\n\\n为了感谢骑士的英勇行为，国王将村子附近的一片土地赐给了骑士，让他在此建立了一个新的家园。骑士在 new 家园里开始繁殖家禽、种植庄稼，还帮助村民们改善生活条件。渐渐地，这片土地变得肥沃，人们的生活越来越好。\\n\\n然而，骑士并没有忘记他的初心。他继续关心着村子里的每一个居民，无论老幼。他还常常带领村民们一起劳动，分享他们的收获。在骑士的带领下，这个村子变得更加繁荣昌盛，成为了附近地区的典范。\\n\\n这个故事告诉我们，一个人的力量是有限的，但只要我们团结一心，共同努力，就能战胜一切困难。同时，我们也要学会珍惜和感恩，用心去关爱身边的人和事。')"
      ]
     },
     "execution_count": 4,
     "metadata": {},
     "output_type": "execute_result"
    }
   ],
   "source": [
    "from query_data import get_llm\n",
    "from langchain.schema import HumanMessage\n",
    "llm = get_llm('local')\n",
    "llm([HumanMessage(content=\"给我讲一个长故事\")])"
   ]
  }
 ],
 "metadata": {
  "kernelspec": {
   "display_name": "gpt",
   "language": "python",
   "name": "python3"
  },
  "language_info": {
   "codemirror_mode": {
    "name": "ipython",
    "version": 3
   },
   "file_extension": ".py",
   "mimetype": "text/x-python",
   "name": "python",
   "nbconvert_exporter": "python",
   "pygments_lexer": "ipython3",
   "version": "3.11.5"
  }
 },
 "nbformat": 4,
 "nbformat_minor": 2
}
