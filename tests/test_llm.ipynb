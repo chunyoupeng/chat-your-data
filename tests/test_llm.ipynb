{
 "cells": [
  {
   "cell_type": "code",
   "execution_count": 4,
   "metadata": {},
   "outputs": [
    {
     "name": "stdout",
     "output_type": "stream",
     "text": [
      "<function get_llm at 0x7fa7f4441990>\n"
     ]
    }
   ],
   "source": [
    "import sys\n",
    "sys.path.append('..')\n",
    "from chat_paper.query_data import *\n",
    "from langchain.schema import HumanMessage\n",
    "print(get_llm)"
   ]
  },
  {
   "cell_type": "code",
   "execution_count": 9,
   "metadata": {},
   "outputs": [],
   "source": [
    "from langchain.chat_models import ChatOpenAI\n",
    "# llm([HumanMessage(content=\"给我讲一个长故事\")])\n",
    "local_llm = ChatOpenAI(\n",
    "    model=\"gpt-3.5-turbo\",\n",
    "    openai_api_base=\"http://localhost:8001/v1\",\n",
    "    openai_api_key=\"EMPTY\",\n",
    "    max_tokens=8000,\n",
    "    temperature=0.1,\n",
    "    # streaming=True,\n",
    "    # callbacks=[StreamingStdOutCallbackHandler()]\n",
    ")\n"
   ]
  },
  {
   "cell_type": "code",
   "execution_count": 13,
   "metadata": {},
   "outputs": [
    {
     "data": {
      "text/plain": [
       "AIMessage(content='\\n 从前，在一个遥远的国度里，有一个美丽的村庄。这个村庄四面环山，风景如画，人们过着和谐安宁的生活。村子里有一位聪明、善良的少年，名叫小明。他乐于助人，因此深受村民们的喜爱。\\n\\n有一天，村子附近的一座山发生了滑坡，巨石滚下山坡，堵住了村子里唯一的一条河流。这使得村民们生活陷入困境，粮食和水源都面临短缺。村子里的长老们十分担忧，决定向国王求助。国王得知此事后，也十分忧心忡忡，于是派出了一位勇敢的骑士去寻求帮助。\\n\\n骑士历经千辛万苦，终于来到了邻国的城堡。他向国王讲述了村子的困境，并请求国王派出救援队伍和提供食物、饮水。国王被骑士的勇敢和诚实所感动，答应了他的请求。不久，国王派出了一支强大的救援队伍，带着食物、饮水和药品来到了村子。\\n\\n在救援队的帮助下，村子里的生活逐渐恢复了正常。村民们感激不已，举行了一场盛大的庆祝活动。国王也来到了村子，与村民们一起庆祝恢复和平与繁荣。\\n\\n然而，就在庆祝活动结束的那天，骑士突然病倒了。村民们非常关心，纷纷前来探望骑士。经过诊断，骑士患有严重的疾病，需要立即治疗。国王得知这一消息后，决定将骑士带回王宫，请来最著名的医生为骑士治疗。\\n\\n经过一段时间的治疗，骑士的病情逐渐好转。国王对骑士表示了感激，并将他封为骑士，成为了村子里的英雄。骑士则表示，这一切都是因为国王的仁慈和慷慨，才会让他有机会挽救村子。\\n\\n从此以后，这个村子变得更加繁荣昌盛，村民们和睦相处，互相关爱。而那座山也变得越发美丽，成为了村民们心中的圣地。而这个故事，也成为了流传千古的佳话。')"
      ]
     },
     "execution_count": 13,
     "metadata": {},
     "output_type": "execute_result"
    }
   ],
   "source": [
    "local_llm([HumanMessage(content=\"给我讲一个长故事\")])"
   ]
  },
  {
   "cell_type": "code",
   "execution_count": null,
   "metadata": {},
   "outputs": [],
   "source": []
  }
 ],
 "metadata": {
  "kernelspec": {
   "display_name": "nlp",
   "language": "python",
   "name": "python3"
  },
  "language_info": {
   "codemirror_mode": {
    "name": "ipython",
    "version": 3
   },
   "file_extension": ".py",
   "mimetype": "text/x-python",
   "name": "python",
   "nbconvert_exporter": "python",
   "pygments_lexer": "ipython3",
   "version": "3.10.13"
  }
 },
 "nbformat": 4,
 "nbformat_minor": 2
}
