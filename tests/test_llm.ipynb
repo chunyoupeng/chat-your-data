{
 "cells": [
  {
   "cell_type": "code",
   "execution_count": null,
   "metadata": {},
   "outputs": [],
   "source": [
    "import sys\n",
    "sys.path.append('..')\n",
    "from chat_paper.query_data import *\n",
    "from langchain.schema import HumanMessage\n",
    "print(get_llm)\n",
    "from langchain.callbacks.manager import CallbackManager\n",
    "from langchain.callbacks.streaming_stdout import StreamingStdOutCallbackHandler\n",
    "from langchain.chains import LLMChain\n",
    "from langchain.llms import LlamaCpp\n",
    "from langchain.prompts import PromptTemplate"
   ]
  },
  {
   "cell_type": "code",
   "execution_count": null,
   "metadata": {},
   "outputs": [],
   "source": [
    "from langchain.chat_models import ChatOpenAI\n",
    "# llm([HumanMessage(content=\"给我讲一个长故事\")])\n",
    "local_llm = ChatOpenAI(\n",
    "    model=\"gpt-3.5-turbo\",\n",
    "    openai_api_base=\"http://localhost:8003/v1\",\n",
    "    openai_api_key=\"EMPTY\",\n",
    "    max_tokens=8000,\n",
    "    temperature=0.1,\n",
    "    # streaming=True,\n",
    "    # callbacks=[StreamingStdOutCallbackHandler()]\n",
    ")\n"
   ]
  },
  {
   "cell_type": "code",
   "execution_count": 23,
   "metadata": {},
   "outputs": [
    {
     "ename": "",
     "evalue": "",
     "output_type": "error",
     "traceback": [
      "\u001b[1;31mThe Kernel crashed while executing code in the the current cell or a previous cell. Please review the code in the cell(s) to identify a possible cause of the failure. Click <a href='https://aka.ms/vscodeJupyterKernelCrash'>here</a> for more info. View Jupyter <a href='command:jupyter.viewOutput'>log</a> for further details."
     ]
    }
   ],
   "source": [
    "\n",
    "openai_llm_3 = ChatOpenAI(\n",
    "    openai_api_base=\"https://aiapi.xing-yun.cn/v1\",\n",
    "    openai_api_key=\"sk-3e5wTBAl2iFDvQvW9b5693C90a97425eBf3b4bEa558eC66a\",\n",
    "    temperature=0.3,\n",
    "    model_name=\"gpt-3.5-turbo\",\n",
    "    # streaming=True,  # ! important\n",
    "    # callbacks=[StreamingStdOutCallbackHandler()]  # ! important\n",
    ")"
   ]
  },
  {
   "cell_type": "code",
   "execution_count": null,
   "metadata": {},
   "outputs": [],
   "source": [
    "local_llm([HumanMessage(content=\"给我讲一个长故事\")])"
   ]
  },
  {
   "cell_type": "code",
   "execution_count": null,
   "metadata": {},
   "outputs": [],
   "source": [
    "# Make sure the model path is correct for your system!\n",
    "# Callbacks support token-wise streaming\n",
    "callback_manager = CallbackManager([StreamingStdOutCallbackHandler()])\n",
    "n_gpu_layers = 40  # Change this value based on your model and your GPU VRAM pool.\n",
    "n_batch = 512  # Should be between 1 and n_ctx, consider the amount of VRAM in your GPU.\n",
    "\n",
    "# Make sure the model path is correct for your system!\n",
    "llm = LlamaCpp(\n",
    "    model_path=\"../../models/openbuddy-zephyr-7b-v14.1.Q5_K_M.gguf\",\n",
    "    n_gpu_layers=n_gpu_layers,\n",
    "    n_batch=n_batch,\n",
    "    callback_manager=callback_manager,\n",
    "    verbose=False,  # Verbose is required to pass to the callback manager\n",
    ")"
   ]
  },
  {
   "cell_type": "code",
   "execution_count": null,
   "metadata": {},
   "outputs": [],
   "source": [
    "llm(\"write python code to qsort fast\")"
   ]
  },
  {
   "cell_type": "code",
   "execution_count": 20,
   "metadata": {},
   "outputs": [],
   "source": [
    "from langchain.callbacks.manager import CallbackManager\n",
    "from langchain.callbacks.streaming_stdout import StreamingStdOutCallbackHandler\n",
    "from langchain.llms import Ollama\n",
    "\n",
    "llm = Ollama(\n",
    "    model=\"yi:34b-chat\", \n",
    "    callback_manager=CallbackManager([StreamingStdOutCallbackHandler()]),\n",
    "    temperature=0.3,\n",
    "    num_ctx=8000\n",
    ")"
   ]
  },
  {
   "cell_type": "code",
   "execution_count": 21,
   "metadata": {},
   "outputs": [
    {
     "name": "stdout",
     "output_type": "stream",
     "text": [
      "当然可以，不过首先我们要知道什么是AI。AI是英文“Artificial Intelligence”的缩写，意思是“人工智能”。简单来说，就是让机器像人一样思考和做事。\n",
      "\n",
      "在开始讲AI的历史之前，我们先要了解一些背景知识。很久以前，人们就梦想着能制造出会思考的机器。古希腊哲学家亚里士多德曾经讨论过自动机的概念，也就是能够自己运动的机器。但是，直到20世纪中叶，计算机的发展才让这个梦想有了实现的可能。\n",
      "\n",
      "现在，让我们回到AI的历史。人工智能这个词是在1956年由几位科学家一起提出的，他们包括约翰·麦卡锡（John McCarthy）、马文·明斯基（Marvin Minsky）、罗彻斯特大学的爱伦·纽厄尔（Allen Newell）和赫伯特·西蒙（Herbert Simon）。他们在达特茅斯学院举办了一个研讨会，讨论如何让计算机模仿人的行为，比如解决问题和学习新东西。这个研讨会被认为是人工智能研究的开始。\n",
      "\n",
      "在AI的早期发展中，科学家们取得了很多突破。1957年，弗兰克·罗森布拉特（Frank Rosenblatt）发明了一种称为“感知器”的人工神经网络，这种网络能够学习并识别简单的模式。1962年，艾伦·纽厄尔和赫伯特·西蒙开发的程序“SIR”可以像人一样解决一些基本的逻辑问题。\n",
      "\n",
      "然而，到了20世纪70年代，AI研究遇到了一些困难。人们发现，即使计算机能解决一些复杂的任务，但是它们需要大量的数据和计算资源，而且很难扩展到新的领域。这个时期被称为“AI的冬天”，因为很多人对AI的未来感到失望。\n",
      "\n",
      "尽管如此，科学家们并没有放弃。随着技术的发展，特别是在20世纪90年代，AI开始复兴。计算机变得更加强大，能够处理更多的数据。机器学习的技术也得到了发展，这使得计算机可以自动从数据中学习模式和规则。\n",
      "\n",
      "进入21世纪，AI取得了巨大的进步。深度学习的出现是一个重要的里程碑。深度学习是一种特殊的机器学习方法，它使用多层的神经网络来学习和理解数据的复杂模式。这种技术在图像识别、语音识别和自然语言处理等领域取得了惊人的成果。\n",
      "\n",
      "现在，我们生活中到处都有AI的影子。智能手机里的虚拟助手，比如Siri、Alexa和Google Assistant，都是通过AI来理解和执行我们的命令。社交媒体平台使用AI来推荐内容，电子商务网站使用AI来个性化购物体验。甚至在医疗领域，AI也被用来帮助诊断疾病和开发新的药物。\n",
      "\n",
      "总结一下，人工智能是一个年轻的科学领域，但它的发展速度非常快。从最初的梦想到现在无处不在的技术，AI已经证明了它的潜力和价值。未来，我们可能会看到更多不可思议的AI应用，这些应用将会改变我们的世界。"
     ]
    },
    {
     "data": {
      "text/plain": [
       "'当然可以，不过首先我们要知道什么是AI。AI是英文“Artificial Intelligence”的缩写，意思是“人工智能”。简单来说，就是让机器像人一样思考和做事。\\n\\n在开始讲AI的历史之前，我们先要了解一些背景知识。很久以前，人们就梦想着能制造出会思考的机器。古希腊哲学家亚里士多德曾经讨论过自动机的概念，也就是能够自己运动的机器。但是，直到20世纪中叶，计算机的发展才让这个梦想有了实现的可能。\\n\\n现在，让我们回到AI的历史。人工智能这个词是在1956年由几位科学家一起提出的，他们包括约翰·麦卡锡（John McCarthy）、马文·明斯基（Marvin Minsky）、罗彻斯特大学的爱伦·纽厄尔（Allen Newell）和赫伯特·西蒙（Herbert Simon）。他们在达特茅斯学院举办了一个研讨会，讨论如何让计算机模仿人的行为，比如解决问题和学习新东西。这个研讨会被认为是人工智能研究的开始。\\n\\n在AI的早期发展中，科学家们取得了很多突破。1957年，弗兰克·罗森布拉特（Frank Rosenblatt）发明了一种称为“感知器”的人工神经网络，这种网络能够学习并识别简单的模式。1962年，艾伦·纽厄尔和赫伯特·西蒙开发的程序“SIR”可以像人一样解决一些基本的逻辑问题。\\n\\n然而，到了20世纪70年代，AI研究遇到了一些困难。人们发现，即使计算机能解决一些复杂的任务，但是它们需要大量的数据和计算资源，而且很难扩展到新的领域。这个时期被称为“AI的冬天”，因为很多人对AI的未来感到失望。\\n\\n尽管如此，科学家们并没有放弃。随着技术的发展，特别是在20世纪90年代，AI开始复兴。计算机变得更加强大，能够处理更多的数据。机器学习的技术也得到了发展，这使得计算机可以自动从数据中学习模式和规则。\\n\\n进入21世纪，AI取得了巨大的进步。深度学习的出现是一个重要的里程碑。深度学习是一种特殊的机器学习方法，它使用多层的神经网络来学习和理解数据的复杂模式。这种技术在图像识别、语音识别和自然语言处理等领域取得了惊人的成果。\\n\\n现在，我们生活中到处都有AI的影子。智能手机里的虚拟助手，比如Siri、Alexa和Google Assistant，都是通过AI来理解和执行我们的命令。社交媒体平台使用AI来推荐内容，电子商务网站使用AI来个性化购物体验。甚至在医疗领域，AI也被用来帮助诊断疾病和开发新的药物。\\n\\n总结一下，人工智能是一个年轻的科学领域，但它的发展速度非常快。从最初的梦想到现在无处不在的技术，AI已经证明了它的潜力和价值。未来，我们可能会看到更多不可思议的AI应用，这些应用将会改变我们的世界。'"
      ]
     },
     "execution_count": 21,
     "metadata": {},
     "output_type": "execute_result"
    }
   ],
   "source": [
    "llm(\"我是一个5岁的孩子，给我讲懂AI的历史，2000字\")"
   ]
  }
 ],
 "metadata": {
  "kernelspec": {
   "display_name": "nlp",
   "language": "python",
   "name": "python3"
  },
  "language_info": {
   "codemirror_mode": {
    "name": "ipython",
    "version": 3
   },
   "file_extension": ".py",
   "mimetype": "text/x-python",
   "name": "python",
   "nbconvert_exporter": "python",
   "pygments_lexer": "ipython3",
   "version": "3.10.13"
  }
 },
 "nbformat": 4,
 "nbformat_minor": 2
}
