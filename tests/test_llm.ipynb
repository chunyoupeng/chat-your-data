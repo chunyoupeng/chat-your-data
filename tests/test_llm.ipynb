{
 "cells": [
  {
   "cell_type": "code",
   "execution_count": 1,
   "metadata": {},
   "outputs": [
    {
     "name": "stdout",
     "output_type": "stream",
     "text": [
      "<function get_llm at 0x7effe8037370>\n"
     ]
    }
   ],
   "source": [
    "import sys\n",
    "sys.path.append('..')\n",
    "from chat_paper.query_data import *\n",
    "from langchain.schema import HumanMessage\n",
    "print(get_llm)\n",
    "from langchain.callbacks.manager import CallbackManager\n",
    "from langchain.callbacks.streaming_stdout import StreamingStdOutCallbackHandler\n",
    "from langchain.chains import LLMChain\n",
    "from langchain.llms import LlamaCpp\n",
    "from langchain.prompts import PromptTemplate"
   ]
  },
  {
   "cell_type": "code",
   "execution_count": null,
   "metadata": {},
   "outputs": [],
   "source": [
    "from langchain.chat_models import ChatOpenAI\n",
    "# llm([HumanMessage(content=\"给我讲一个长故事\")])\n",
    "local_llm = ChatOpenAI(\n",
    "    model=\"gpt-3.5-turbo\",\n",
    "    openai_api_base=\"http://localhost:8003/v1\",\n",
    "    openai_api_key=\"EMPTY\",\n",
    "    max_tokens=8000,\n",
    "    temperature=0.1,\n",
    "    # streaming=True,\n",
    "    # callbacks=[StreamingStdOutCallbackHandler()]\n",
    ")\n"
   ]
  },
  {
   "cell_type": "code",
   "execution_count": 14,
   "metadata": {},
   "outputs": [],
   "source": [
    "\n",
    "openai_llm_3 = ChatOpenAI(\n",
    "    openai_api_base=\"https://aiapi.xing-yun.cn/v1\",\n",
    "    openai_api_key=\"sk-Ny6WUAgn9PQCOMqQ0d9a0174Ba9e45348862D2746aF44923\",\n",
    "    temperature=0.3,\n",
    "    model_name=\"gpt-3.5-turbo\",\n",
    "    streaming=True,  # ! important\n",
    "    callbacks=[StreamingStdOutCallbackHandler()]  # ! important\n",
    ")"
   ]
  },
  {
   "cell_type": "code",
   "execution_count": 15,
   "metadata": {},
   "outputs": [
    {
     "name": "stdout",
     "output_type": "stream",
     "text": [
      "从前有一个小村庄，这个村庄位于一个美丽的山谷中。村庄周围是郁郁葱葱的森林和清澈的溪流，村民们过着宁静而简朴的生活。\n",
      "\n",
      "村庄中有一位年轻而聪明的男孩，名叫小明。小明是村庄中唯一的孤儿，他被一位慈祥的老人收养并抚养长大。老人教导小明诚实、勤劳和善良的品德，小明也一直尽力去做到。\n",
      "\n",
      "有一天，村庄中传来了一个消息，说附近的山上有一座神秘的宝藏。传说中，这座宝藏能带来无尽的财富和幸福。村民们纷纷前往山上寻找宝藏，希望能改变他们的生活。\n",
      "\n",
      "小明也听闻了这个消息，但他并没有像其他人一样急于寻找宝藏。相反，他决定先去找老人商量。老人听完小明的叙述后，微笑着说：“孩子，财富和幸福并不是只存在于宝藏中。真正的财富在于你内心的善良和对他人的帮助。如果你真的想要找到宝藏，你应该先去帮助那些需要帮助的人。”\n",
      "\n",
      "小明听从了老人的建议，他开始主动帮助村庄中的老人和孩子们。他帮助老人们修理房屋，带领孩子们上学，还帮助农民们耕种田地。他的善举渐渐传开，村民们对他充满了敬意和感激。\n",
      "\n",
      "就在小明快乐地帮助他人的时候，一个年轻的女子来到了村庄。她名叫小芳，是一个迷失的旅人。小芳告诉村民们，她在山上迷路了，无法找到回家的路。小明听到消息后，立刻决定帮助她。\n",
      "\n",
      "小明带着小芳去山上寻找回家的路。他们一起穿越茂密的森林，跨过湍急的溪流，攀爬陡峭的山峰。在这个过程中，小明和小芳逐渐产生了深厚的感情。\n",
      "\n",
      "终于，他们找到了小芳的家。小芳感激地看着小明说：“你是我遇到的最善良、勇敢的人。我愿意和你一起分享我的财富和幸福。”小明微笑着摇摇头说：“谢谢你的好意，但我已经找到了真正的财富。我的幸福在于能够帮助他人，而不是追求物质的财富。”\n",
      "\n",
      "小明和小芳成为了好朋友，他们一起回到了村庄。村民们为小明的善行而感到骄傲，并将他视为村庄的英雄。小明继续帮助他人，他的善举不仅带来了幸福和财富，更让整个村庄充满了爱和温暖。\n",
      "\n",
      "这个故事告诉我们，真正的财富和幸福不仅仅存在于物质上，更在于我们内心的善良和对他人的帮助。只有通过帮助他人，我们才能真正体会到生活的意义和价值。"
     ]
    }
   ],
   "source": [
    "out = openai_llm_3([HumanMessage(content=\"给我讲一个长故事\")])"
   ]
  },
  {
   "cell_type": "code",
   "execution_count": 16,
   "metadata": {},
   "outputs": [
    {
     "name": "stdout",
     "output_type": "stream",
     "text": [
      "content='从前有一个小村庄，这个村庄位于一个美丽的山谷中。村庄周围是郁郁葱葱的森林和清澈的溪流，村民们过着宁静而简朴的生活。\\n\\n村庄中有一位年轻而聪明的男孩，名叫小明。小明是村庄中唯一的孤儿，他被一位慈祥的老人收养并抚养长大。老人教导小明诚实、勤劳和善良的品德，小明也一直尽力去做到。\\n\\n有一天，村庄中传来了一个消息，说附近的山上有一座神秘的宝藏。传说中，这座宝藏能带来无尽的财富和幸福。村民们纷纷前往山上寻找宝藏，希望能改变他们的生活。\\n\\n小明也听闻了这个消息，但他并没有像其他人一样急于寻找宝藏。相反，他决定先去找老人商量。老人听完小明的叙述后，微笑着说：“孩子，财富和幸福并不是只存在于宝藏中。真正的财富在于你内心的善良和对他人的帮助。如果你真的想要找到宝藏，你应该先去帮助那些需要帮助的人。”\\n\\n小明听从了老人的建议，他开始主动帮助村庄中的老人和孩子们。他帮助老人们修理房屋，带领孩子们上学，还帮助农民们耕种田地。他的善举渐渐传开，村民们对他充满了敬意和感激。\\n\\n就在小明快乐地帮助他人的时候，一个年轻的女子来到了村庄。她名叫小芳，是一个迷失的旅人。小芳告诉村民们，她在山上迷路了，无法找到回家的路。小明听到消息后，立刻决定帮助她。\\n\\n小明带着小芳去山上寻找回家的路。他们一起穿越茂密的森林，跨过湍急的溪流，攀爬陡峭的山峰。在这个过程中，小明和小芳逐渐产生了深厚的感情。\\n\\n终于，他们找到了小芳的家。小芳感激地看着小明说：“你是我遇到的最善良、勇敢的人。我愿意和你一起分享我的财富和幸福。”小明微笑着摇摇头说：“谢谢你的好意，但我已经找到了真正的财富。我的幸福在于能够帮助他人，而不是追求物质的财富。”\\n\\n小明和小芳成为了好朋友，他们一起回到了村庄。村民们为小明的善行而感到骄傲，并将他视为村庄的英雄。小明继续帮助他人，他的善举不仅带来了幸福和财富，更让整个村庄充满了爱和温暖。\\n\\n这个故事告诉我们，真正的财富和幸福不仅仅存在于物质上，更在于我们内心的善良和对他人的帮助。只有通过帮助他人，我们才能真正体会到生活的意义和价值。'\n"
     ]
    }
   ],
   "source": [
    "print(out)"
   ]
  },
  {
   "cell_type": "code",
   "execution_count": null,
   "metadata": {},
   "outputs": [],
   "source": [
    "# Make sure the model path is correct for your system!\n",
    "# Callbacks support token-wise streaming\n",
    "callback_manager = CallbackManager([StreamingStdOutCallbackHandler()])\n",
    "n_gpu_layers = 40  # Change this value based on your model and your GPU VRAM pool.\n",
    "n_batch = 512  # Should be between 1 and n_ctx, consider the amount of VRAM in your GPU.\n",
    "\n",
    "# Make sure the model path is correct for your system!\n",
    "llm = LlamaCpp(\n",
    "    model_path=\"../../models/openbuddy-zephyr-7b-v14.1.Q5_K_M.gguf\",\n",
    "    n_gpu_layers=n_gpu_layers,\n",
    "    n_batch=n_batch,\n",
    "    callback_manager=callback_manager,\n",
    "    verbose=False,  # Verbose is required to pass to the callback manager\n",
    ")"
   ]
  },
  {
   "cell_type": "code",
   "execution_count": null,
   "metadata": {},
   "outputs": [],
   "source": [
    "llm(\"write python code to qsort fast\")"
   ]
  },
  {
   "cell_type": "code",
   "execution_count": 20,
   "metadata": {},
   "outputs": [],
   "source": [
    "from langchain.callbacks.manager import CallbackManager\n",
    "from langchain.callbacks.streaming_stdout import StreamingStdOutCallbackHandler\n",
    "from langchain.llms import Ollama\n",
    "\n",
    "llm = Ollama(\n",
    "    model=\"yi:34b-chat\", \n",
    "    callback_manager=CallbackManager([StreamingStdOutCallbackHandler()]),\n",
    "    temperature=0.3,\n",
    "    num_ctx=8000\n",
    ")"
   ]
  },
  {
   "cell_type": "code",
   "execution_count": 21,
   "metadata": {},
   "outputs": [
    {
     "name": "stdout",
     "output_type": "stream",
     "text": [
      "当然可以，不过首先我们要知道什么是AI。AI是英文“Artificial Intelligence”的缩写，意思是“人工智能”。简单来说，就是让机器像人一样思考和做事。\n",
      "\n",
      "在开始讲AI的历史之前，我们先要了解一些背景知识。很久以前，人们就梦想着能制造出会思考的机器。古希腊哲学家亚里士多德曾经讨论过自动机的概念，也就是能够自己运动的机器。但是，直到20世纪中叶，计算机的发展才让这个梦想有了实现的可能。\n",
      "\n",
      "现在，让我们回到AI的历史。人工智能这个词是在1956年由几位科学家一起提出的，他们包括约翰·麦卡锡（John McCarthy）、马文·明斯基（Marvin Minsky）、罗彻斯特大学的爱伦·纽厄尔（Allen Newell）和赫伯特·西蒙（Herbert Simon）。他们在达特茅斯学院举办了一个研讨会，讨论如何让计算机模仿人的行为，比如解决问题和学习新东西。这个研讨会被认为是人工智能研究的开始。\n",
      "\n",
      "在AI的早期发展中，科学家们取得了很多突破。1957年，弗兰克·罗森布拉特（Frank Rosenblatt）发明了一种称为“感知器”的人工神经网络，这种网络能够学习并识别简单的模式。1962年，艾伦·纽厄尔和赫伯特·西蒙开发的程序“SIR”可以像人一样解决一些基本的逻辑问题。\n",
      "\n",
      "然而，到了20世纪70年代，AI研究遇到了一些困难。人们发现，即使计算机能解决一些复杂的任务，但是它们需要大量的数据和计算资源，而且很难扩展到新的领域。这个时期被称为“AI的冬天”，因为很多人对AI的未来感到失望。\n",
      "\n",
      "尽管如此，科学家们并没有放弃。随着技术的发展，特别是在20世纪90年代，AI开始复兴。计算机变得更加强大，能够处理更多的数据。机器学习的技术也得到了发展，这使得计算机可以自动从数据中学习模式和规则。\n",
      "\n",
      "进入21世纪，AI取得了巨大的进步。深度学习的出现是一个重要的里程碑。深度学习是一种特殊的机器学习方法，它使用多层的神经网络来学习和理解数据的复杂模式。这种技术在图像识别、语音识别和自然语言处理等领域取得了惊人的成果。\n",
      "\n",
      "现在，我们生活中到处都有AI的影子。智能手机里的虚拟助手，比如Siri、Alexa和Google Assistant，都是通过AI来理解和执行我们的命令。社交媒体平台使用AI来推荐内容，电子商务网站使用AI来个性化购物体验。甚至在医疗领域，AI也被用来帮助诊断疾病和开发新的药物。\n",
      "\n",
      "总结一下，人工智能是一个年轻的科学领域，但它的发展速度非常快。从最初的梦想到现在无处不在的技术，AI已经证明了它的潜力和价值。未来，我们可能会看到更多不可思议的AI应用，这些应用将会改变我们的世界。"
     ]
    },
    {
     "data": {
      "text/plain": [
       "'当然可以，不过首先我们要知道什么是AI。AI是英文“Artificial Intelligence”的缩写，意思是“人工智能”。简单来说，就是让机器像人一样思考和做事。\\n\\n在开始讲AI的历史之前，我们先要了解一些背景知识。很久以前，人们就梦想着能制造出会思考的机器。古希腊哲学家亚里士多德曾经讨论过自动机的概念，也就是能够自己运动的机器。但是，直到20世纪中叶，计算机的发展才让这个梦想有了实现的可能。\\n\\n现在，让我们回到AI的历史。人工智能这个词是在1956年由几位科学家一起提出的，他们包括约翰·麦卡锡（John McCarthy）、马文·明斯基（Marvin Minsky）、罗彻斯特大学的爱伦·纽厄尔（Allen Newell）和赫伯特·西蒙（Herbert Simon）。他们在达特茅斯学院举办了一个研讨会，讨论如何让计算机模仿人的行为，比如解决问题和学习新东西。这个研讨会被认为是人工智能研究的开始。\\n\\n在AI的早期发展中，科学家们取得了很多突破。1957年，弗兰克·罗森布拉特（Frank Rosenblatt）发明了一种称为“感知器”的人工神经网络，这种网络能够学习并识别简单的模式。1962年，艾伦·纽厄尔和赫伯特·西蒙开发的程序“SIR”可以像人一样解决一些基本的逻辑问题。\\n\\n然而，到了20世纪70年代，AI研究遇到了一些困难。人们发现，即使计算机能解决一些复杂的任务，但是它们需要大量的数据和计算资源，而且很难扩展到新的领域。这个时期被称为“AI的冬天”，因为很多人对AI的未来感到失望。\\n\\n尽管如此，科学家们并没有放弃。随着技术的发展，特别是在20世纪90年代，AI开始复兴。计算机变得更加强大，能够处理更多的数据。机器学习的技术也得到了发展，这使得计算机可以自动从数据中学习模式和规则。\\n\\n进入21世纪，AI取得了巨大的进步。深度学习的出现是一个重要的里程碑。深度学习是一种特殊的机器学习方法，它使用多层的神经网络来学习和理解数据的复杂模式。这种技术在图像识别、语音识别和自然语言处理等领域取得了惊人的成果。\\n\\n现在，我们生活中到处都有AI的影子。智能手机里的虚拟助手，比如Siri、Alexa和Google Assistant，都是通过AI来理解和执行我们的命令。社交媒体平台使用AI来推荐内容，电子商务网站使用AI来个性化购物体验。甚至在医疗领域，AI也被用来帮助诊断疾病和开发新的药物。\\n\\n总结一下，人工智能是一个年轻的科学领域，但它的发展速度非常快。从最初的梦想到现在无处不在的技术，AI已经证明了它的潜力和价值。未来，我们可能会看到更多不可思议的AI应用，这些应用将会改变我们的世界。'"
      ]
     },
     "execution_count": 21,
     "metadata": {},
     "output_type": "execute_result"
    }
   ],
   "source": [
    "llm(\"我是一个5岁的孩子，给我讲懂AI的历史，2000字\")"
   ]
  }
 ],
 "metadata": {
  "kernelspec": {
   "display_name": "nlp",
   "language": "python",
   "name": "python3"
  },
  "language_info": {
   "codemirror_mode": {
    "name": "ipython",
    "version": 3
   },
   "file_extension": ".py",
   "mimetype": "text/x-python",
   "name": "python",
   "nbconvert_exporter": "python",
   "pygments_lexer": "ipython3",
   "version": "3.10.13"
  }
 },
 "nbformat": 4,
 "nbformat_minor": 2
}
