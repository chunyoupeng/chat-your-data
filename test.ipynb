{
 "cells": [
  {
   "cell_type": "code",
   "execution_count": 1,
   "metadata": {},
   "outputs": [
    {
     "name": "stdout",
     "output_type": "stream",
     "text": [
      "hi\n"
     ]
    }
   ],
   "source": [
    "print(\"hi\")"
   ]
  },
  {
   "cell_type": "code",
   "execution_count": 30,
   "metadata": {},
   "outputs": [],
   "source": [
    "# Set logging for the queries\n",
    "import logging\n",
    "import pickle\n",
    "from langchain.vectorstores.base import VectorStoreRetriever\n",
    "logging.basicConfig()\n",
    "logging.getLogger(\"langchain.retrievers.multi_query\").setLevel(logging.INFO)"
   ]
  },
  {
   "cell_type": "code",
   "execution_count": 31,
   "metadata": {},
   "outputs": [],
   "source": [
    "to_file = \"vector_src/ss_src-vectorstore.pkl\"\n",
    "with open(to_file, \"rb\") as f:\n",
    "    vectorstore = pickle.load(f)\n",
    "retriever = VectorStoreRetriever(vectorstore=vectorstore)"
   ]
  },
  {
   "cell_type": "code",
   "execution_count": 35,
   "metadata": {},
   "outputs": [],
   "source": [
    "from langchain.retrievers.multi_query import MultiQueryRetriever\n",
    "from langchain.chat_models import ChatOpenAI\n",
    "from query_data import get_llm\n",
    "\n",
    "llm=get_llm('local')\n",
    "retriever = MultiQueryRetriever.from_llm(\n",
    "    retriever=retriever, llm=llm\n",
    ")"
   ]
  },
  {
   "cell_type": "code",
   "execution_count": 36,
   "metadata": {},
   "outputs": [
    {
     "data": {
      "text/plain": [
       "'我是一个名为 ChatGLM3-6B 的人工智能助手，是基于清华大学 KEG 实验室和智谱 AI 公司于 2023 年共同训练的语言模型开发的。我的任务是针对用户的问题和要求提供适当的答复和支持。\\n\\nGPT-3.5 是一个由 OpenAI 于 2022 年 11 月推出的语言模型，是 GPT-3 的升级版。GPT-3.5 具有更强的语言理解能力和生成能力，可以用于自动写作、机器翻译、代码调试等领域。\\n\\n me and gpt-3.5 are both artificial intelligence assistants based on language models. However, the difference between me and gpt-3.5 lies in the model architecture and pre-training target. me is a human-assistant based on the GLM model, while gpt-3.5 is an artificial intelligence assistant based on the GPT model. In other words, gpt-3.5 is more advanced than me in terms of model scale and performance.'"
      ]
     },
     "execution_count": 36,
     "metadata": {},
     "output_type": "execute_result"
    }
   ],
   "source": [
    "llm.predict(\"你是谁?你和gpt-3.5的差距有多大\")"
   ]
  },
  {
   "cell_type": "code",
   "execution_count": 37,
   "metadata": {},
   "outputs": [
    {
     "name": "stderr",
     "output_type": "stream",
     "text": [
      "INFO:langchain.retrievers.multi_query:Generated queries: ['1. ', '', '   国家的税收策略是什么?', '   ', '   国家税收策略包括哪些方面?', '   ', '   如何制定有效的国家税收策略?', '   ', '2. ', '', '   税收策略对国家的重要性是什么?', '   ', '   国家税收策略的制定过程是什么?', '   ', '   如何评估国家税收策略的有效性?', '   ', '3. ', '', '   国家税收策略的主要目标是什么?', '   ', '   如何平衡国家税收策略与其他政策目标?', '   ', '   在不同国家中,税收策略有什么不同?']\n",
      "INFO:langchain.retrievers.multi_query:Generated queries: ['What are the limitations of distance-based similarity search? ', '', '1. How does distance-based similarity search fall short in retrieving relevant documents?', '2. What are the drawbacks of relying solely on distance-based similarity search for document retrieval?', '3. In what ways does distance-based similarity search have limitations in retrieving relevant documents?']\n",
      "INFO:langchain.retrievers.multi_query:Generated queries: ['What are the benefits of exercise for mental health? ', '', '1. How does exercise impact mental well-being?', '2. What positive effects does exercise have on mental health?', '3. Can you explain the relationship between exercise and mental well-being?']\n",
      "INFO:langchain.retrievers.multi_query:Generated queries: ['国家的税收政策有哪些？', '国家如何制定税收策略？', '了解一下国家税收策略的相关信息。']\n",
      "INFO:langchain.retrievers.multi_query:Generated queries: ['How can I improve my time management skills? ', '', '1. What are some effective strategies for enhancing time management abilities?', '2. Are there any proven techniques to boost time management skills?', '3. How can I become more efficient in managing my time effectively?']\n",
      "INFO:langchain.retrievers.multi_query:Generated queries: ['1. 税收策略的方面有哪些国家在考虑？', '2. 哪些方面被纳入国家税收策略？', '3. 国家税收策略涵盖了哪些方面？']\n",
      "INFO:langchain.retrievers.multi_query:Generated queries: ['What are the best restaurants in New York City? ', '', '1. Can you recommend some top-rated dining establishments in New York City?', '2. Which restaurants in New York City have received excellent reviews?', '3. What are some highly recommended places to eat in New York City?']\n",
      "INFO:langchain.retrievers.multi_query:Generated queries: ['1. 怎样制定国家税收策略以确保其有效性？', '2. 如何制定国家税收策略以提高其效力？', '3. 有哪些方法可以制定有效的国家税收策略？']\n",
      "INFO:langchain.retrievers.multi_query:Generated queries: ['How can I improve my communication skills? ', '', '1. What are some effective strategies for enhancing communication abilities?', '2. Are there any proven techniques to develop better communication skills?', '3. How can I become a more effective communicator?']\n",
      "INFO:langchain.retrievers.multi_query:Generated queries: ['What are the limitations of distance-based similarity search?']\n",
      "INFO:langchain.retrievers.multi_query:Generated queries: ['What are the benefits of exercise for mental health?']\n",
      "INFO:langchain.retrievers.multi_query:Generated queries: ['1. 国家为什么需要税收策略？ ', '2. 税收策略如何影响国家的发展？ ', '3. 税收策略对国家经济的重要性体现在哪些方面？']\n",
      "INFO:langchain.retrievers.multi_query:Generated queries: ['How can I improve my communication skills? ', '', '1. What are some effective strategies for enhancing communication abilities? ', '2. What techniques can be employed to develop better communication skills? ', '3. Are there any specific methods or practices that can help me enhance my ability to communicate effectively?']\n",
      "INFO:langchain.retrievers.multi_query:Generated queries: ['1. 制定国家税收策略的过程是怎样的？', '2. 国家税收策略的制定是如何进行的？', '3. 如何制定国家税收策略的过程是什么？']\n",
      "INFO:langchain.retrievers.multi_query:Generated queries: ['What are the best restaurants in New York City? ', '', '1. Can you recommend some top-rated dining establishments in New York City?', '2. Which restaurants in New York City have received rave reviews?', '3. What are some highly recommended places to eat in New York City?']\n",
      "INFO:langchain.retrievers.multi_query:Generated queries: ['1. 国家税收策略的有效性如何进行评估？', '2. 评估国家税收策略有效性的方法有哪些？', '3. 如何判断国家税收策略是否有效？']\n",
      "INFO:langchain.retrievers.multi_query:Generated queries: ['What are the best restaurants in New York City? ', '', '1. Can you recommend some top-rated dining establishments in New York City?', '2. Which restaurants in New York City are highly regarded?', '3. What are some popular dining options in New York City that I should try?']\n",
      "INFO:langchain.retrievers.multi_query:Generated queries: ['What are some alternative methods to distance-based similarity search?']\n",
      "INFO:langchain.retrievers.multi_query:Generated queries: ['How can I improve my communication skills? ', '', '1. What are some effective strategies to enhance my communication skills?', '2. Are there any specific techniques that can help me improve my ability to communicate effectively?', '3. What steps can I take to develop and strengthen my communication skills?']\n",
      "INFO:langchain.retrievers.multi_query:Generated queries: ['国家税收策略的首要目标是什么？', '国家税收策略的核心目标是什么？', '国家税收策略的主要目的是什么？']\n",
      "INFO:langchain.retrievers.multi_query:Generated queries: ['What are the best restaurants in New York City? ', '', '1. Can you recommend some top-rated dining establishments in New York City?', '2. Which restaurants in New York City have received excellent reviews?', '3. What are some highly recommended places to eat in New York City?']\n",
      "INFO:langchain.retrievers.multi_query:Generated queries: ['如何在国家税收策略和其他政策目标之间找到平衡点?', '国家税收策略如何与其他政策目标相协调?', '如何确保国家税收策略与其他政策目标之间的平衡?']\n",
      "INFO:langchain.retrievers.multi_query:Generated queries: ['How can I improve my communication skills? ', '', '1. What are some effective strategies for enhancing communication abilities?', '2. What techniques can be employed to develop better communication skills?', '3. Are there any specific methods or practices that can help in improving communication proficiency?']\n",
      "INFO:langchain.retrievers.multi_query:Generated queries: ['1. 不同国家的税收策略有哪些差异？', '2. 各个国家之间的税收策略有何异同？', '3. 在全球范围内，不同国家的税收策略有何不同之处？']\n"
     ]
    },
    {
     "data": {
      "text/plain": [
       "28"
      ]
     },
     "execution_count": 37,
     "metadata": {},
     "output_type": "execute_result"
    }
   ],
   "source": [
    "question = \"国家的税收策略是什么?\"\n",
    "\n",
    "docs = retriever.get_relevant_documents(query=question)\n",
    "len(docs)"
   ]
  },
  {
   "cell_type": "code",
   "execution_count": 38,
   "metadata": {},
   "outputs": [
    {
     "data": {
      "text/plain": [
       "[Document(page_content='：：', metadata={'source': 'ss_src/税制结构对我国城乡居民消费水平差距的影响研究_王雨晴.pdf', 'page': 1}),\n",
       " Document(page_content='：：', metadata={'source': 'ss_src/税制结构对居民消费的影响研究_霍秋雯.pdf', 'page': 1}),\n",
       " Document(page_content='', metadata={'source': 'ss_src/税收凸显性对居民汽车消费行为影响研究_李婉婷.pdf', 'page': 39}),\n",
       " Document(page_content=\"'''''''''\", metadata={'source': 'ss_src/个人所得税费用扣除标准提高对城镇居民消费的影响研究_郭志勇.pdf', 'page': 8}),\n",
       " Document(page_content=\"'''''\", metadata={'source': 'ss_src/税收负担对居民消费的影响_杨林辉.pdf', 'page': 7}),\n",
       " Document(page_content='-', metadata={'source': 'ss_src/个人所得税费用扣除标准提高对城镇居民消费的影响研究_郭志勇.pdf', 'page': 9}),\n",
       " Document(page_content='水平的情况下就会增加医疗等方面的支出，提升生活质量。', metadata={'source': 'ss_src/个人所得税改革对居民消费的影响研究_杨志坤.pdf', 'page': 49}),\n",
       " Document(page_content='费行为具有显著影响。为了进一步检验上述结果的稳健性，本研究采用替换被解释变量、增加遗漏变量和加入滞后变量三种方式进行稳健性检验。', metadata={'source': 'ss_src/税收凸显性对居民汽车消费行为影响研究_李婉婷.pdf', 'page': 44}),\n",
       " Document(page_content='此，国家制定税收政策要充分进行宏观调控，从整体上把握税收量与度的关系，协调好纳税个体与社会整体间的平衡关系，保障税收中性，采取一切有效的措施降低纳税人和社会承受的额外负担。', metadata={'source': 'ss_src/国内大循环背景下税收对居民消费的影响及效应研究_蒋悦.pdf', 'page': 22}),\n",
       " Document(page_content='括资源税、印花税、环境保护税、城市维护建设税等九个税种。各税系及其所包含税种具体如下图所示：', metadata={'source': 'ss_src/税制结构对我国城乡居民消费水平差距的影响研究_王雨晴.pdf', 'page': 30}),\n",
       " Document(page_content='研究税制结构时，选取的是以增值税、消费税为代表的流转税、以个人所得税为代表的', metadata={'source': 'ss_src/税制结构对居民消费的影响研究_霍秋雯.pdf', 'page': 54}),\n",
       " Document(page_content='相关解决措施。2本研究可以为优化我国税制结构提供参考意见，以期帮助我国税制结构在提高居民消费水平、扩大消费需求方面更好地发挥作用。', metadata={'source': 'ss_src/税制结构对城乡居民消费的影响效应研究_周鑫兰.pdf', 'page': 7}),\n",
       " Document(page_content='522完善财产税制度，缩小贫富差距4253建立科学的税收监管体系，提升税收监管能力43531加强税源监控，保证税源质量43532加强税收透明度，减少税收成本4354注重不同措施搭配，培育新的消费增长点43参考文献45致谢48', metadata={'source': 'ss_src/我国税制结构对居民消费的影响研究_黎双.pdf', 'page': 4}),\n",
       " Document(page_content='论支撑，从而有助于国家充分发挥政府这只“看得见的手”的作用，利用财税政策缩小我国二元经济结构下居民的消费水平差距，更高效的提促全体国民的生活质量和消费水平，促进中国的高质量协调发展。', metadata={'source': 'ss_src/税制结构对我国城乡居民消费水平差距的影响研究_王雨晴.pdf', 'page': 9}),\n",
       " Document(page_content='量选取和数据来源进行了说明，并对模型稳定性和有效性进行检验；通过等间隔', metadata={'source': 'ss_src/国内大循环背景下税收对居民消费的影响及效应研究_蒋悦.pdf', 'page': 16}),\n",
       " Document(page_content='623试验开征新税种,完善税收种类46624根据区域差异特点,调整税收结构与政策47参考文献48', metadata={'source': 'ss_src/税制结构对我国城乡居民消费水平差距的影响研究_王雨晴.pdf', 'page': 7}),\n",
       " Document(page_content='得税暂行条例》。前者针对个人，采用将收入分类，综合征收得模式。具体而言，', metadata={'source': 'ss_src/个人所得税对居民消费的影响研究_代世龙.pdf', 'page': 26}),\n",
       " Document(page_content=',:first,;Second,,;Third,-of-pricetax,;Fourth,,sothat\"\";Fifth,\"\"KeyWords：', metadata={'source': 'ss_src/税收凸显性对居民汽车消费行为影响研究_李婉婷.pdf', 'page': 4}),\n",
       " Document(page_content='变量(1)(2)-0007(0008)Lavintax-0089*(0054)(0177)0035(0178)unemploy-0036*(0020)-0030(0019)Raise0005(0003)0005*(0003)CPI1816(1419)1978(1414)', metadata={'source': 'ss_src/税收凸显性对居民汽车消费行为影响研究_李婉婷.pdf', 'page': 47}),\n",
       " Document(page_content='将从最优间接税理论与最优所得税理论两方面对此问题展开论述。（1）最优间接税理论最优间接税理论研究的问题是：在政府只能将间接税作为筹集既定收入的工', metadata={'source': 'ss_src/税制结构对城乡居民消费的影响效应研究_周鑫兰.pdf', 'page': 15}),\n",
       " Document(page_content='税收对经济增长的影响研究——以江西省为例--', metadata={'source': 'ss_src/税收对经济增长的影响研究_熊静静.pdf', 'page': 7}),\n",
       " Document(page_content='税负轻重合理的税制也能够推动社会经济的发展，实现对经济的调节作用。但在实际经济活动中，作为“理性经济人”的纳税人出于使自身经济利益最大化的目的，会将', metadata={'source': 'ss_src/税制结构对我国城乡居民消费水平差距的影响研究_王雨晴.pdf', 'page': 21}),\n",
       " Document(page_content='性减税共同组成的积极财政政策，此外，优化税制结构也逐渐成为我国税收制度改革的一大目标，并取得了显著成效。如此连续性、长期性的税收政策对于稳定居民消费信心、提振国内消费需求能否发挥积极作用，目前的相关研究虽已从理论上展开了丰富的讨论，但还鲜有学者从实证角度对此加以验6', metadata={'source': 'ss_src/新发展格局下促进居民消费的税收政策再思考_马海涛 (1).pdf', 'page': 1}),\n",
       " Document(page_content='性减税共同组成的积极财政政策，此外，优化税制结构也逐渐成为我国税收制度改革的一大目标，并取得了显著成效。如此连续性、长期性的税收政策对于稳定居民消费信心、提振国内消费需求能否发挥积极作用，目前的相关研究虽已从理论上展开了丰富的讨论，但还鲜有学者从实证角度对此加以验6', metadata={'source': 'ss_src/新发展格局下促进居民消费的税收政策再思考_马海涛.pdf', 'page': 1}),\n",
       " Document(page_content='在保证财政收支平衡基础上，合理规划宏观税负。财政担负着提供公共服务和民生保障的重要职能，财政收支平衡是国民经济持续稳定发展的重要保障。税收作为财政收入的主要来源，若大规模降税会造成政府收入减少，财政压力增大，政府资源调控的效率降低，也不利于经济的发展。因此要平衡好财政支出与税收收', metadata={'source': 'ss_src/国内大循环背景下税收对居民消费的影响及效应研究_蒋悦.pdf', 'page': 61}),\n",
       " Document(page_content='调节收入分配方面的促进作用较为显著，多种税种的减税政策组合能够促进产出增加并', metadata={'source': 'ss_src/税收对经济增长的影响研究_熊静静.pdf', 'page': 12}),\n",
       " Document(page_content='度分析不同国家之间的税制结构，来讨论不同税制结构对居民消费的影响；有的从微观的角度比如税率的不同，研究不同税率下的税制结构对居民消费的影响。虽然理论分析和实证分析关于税制结构与消费之间的关系未达成一致的结', metadata={'source': 'ss_src/我国税制结构对居民消费的影响研究_黎双.pdf', 'page': 12}),\n",
       " Document(page_content='时，分别从税收凸显性的高和低两个维度出发，进行了对比分析；另一方面，本文在实证过程中还通过分样本回归进行异质性分析，通过比较税收凸显性对不同受教', metadata={'source': 'ss_src/税收凸显性对居民汽车消费行为影响研究_李婉婷.pdf', 'page': 16})]"
      ]
     },
     "execution_count": 38,
     "metadata": {},
     "output_type": "execute_result"
    }
   ],
   "source": [
    "docs"
   ]
  },
  {
   "cell_type": "code",
   "execution_count": 47,
   "metadata": {},
   "outputs": [],
   "source": [
    "from langchain.prompts import PromptTemplate\n",
    "from langchain.chains import LLMChain\n",
    "\n",
    "QA_PROMPT = PromptTemplate(\n",
    "    input_variables=[\"query\", \"contexts\"],\n",
    "    template=\"\"\"You are a helpful assistant who answers user queries using the\n",
    "    contexts provided. If the question cannot be answered using the information\n",
    "    provided say \"I don't know,必须使用中文输出!\".\n",
    "    Contexts:\n",
    "    {contexts}\n",
    "\n",
    "    Question: {query}\"\"\",\n",
    ")\n",
    "\n",
    "# Chain\n",
    "qa_chain = LLMChain(llm=llm, prompt=QA_PROMPT)"
   ]
  },
  {
   "cell_type": "code",
   "execution_count": 41,
   "metadata": {},
   "outputs": [],
   "source": [
    "from typing import List\n",
    "from langchain.chains import LLMChain\n",
    "from pydantic import BaseModel, Field\n",
    "from langchain.prompts import PromptTemplate\n",
    "from langchain.output_parsers import PydanticOutputParser\n",
    "from langchain.chains import SequentialChain\n",
    "from langchain.chains import TransformChain\n",
    "\n",
    "# Output parser will split the LLM result into a list of queries\n",
    "class LineList(BaseModel):\n",
    "    # \"lines\" is the key (attribute name) of the parsed output\n",
    "    lines: List[str] = Field(description=\"Lines of text\")\n",
    "\n",
    "\n",
    "class LineListOutputParser(PydanticOutputParser):\n",
    "    def __init__(self) -> None:\n",
    "        super().__init__(pydantic_object=LineList)\n",
    "\n",
    "    def parse(self, text: str) -> LineList:\n",
    "        lines = text.strip().split(\"\\n\")\n",
    "        return LineList(lines=lines)\n",
    "\n",
    "\n",
    "output_parser = LineListOutputParser()\n",
    "\n",
    "template = \"\"\"\n",
    "Your task is to generate 5 different search queries that aim to\n",
    "answer the user question from multiple perspectives. \n",
    "Each query MUST tackle the question from a different viewpoint, we\n",
    "want to get a variety of RELEVANT search results.\n",
    "Provide these alternative questions separated by newlines.You answer MUST in Chinese output.\n",
    "Original question: {question}\n",
    "\"\"\"\n",
    "\n",
    "QUERY_PROMPT = PromptTemplate(\n",
    "    input_variables=[\"question\"],\n",
    "    template=template,\n",
    ")\n",
    "\n",
    "# Chain\n",
    "llm_chain = LLMChain(llm=llm, prompt=QUERY_PROMPT, output_parser=output_parser)"
   ]
  },
  {
   "cell_type": "code",
   "execution_count": 44,
   "metadata": {},
   "outputs": [
    {
     "name": "stderr",
     "output_type": "stream",
     "text": [
      "INFO:langchain.retrievers.multi_query:Generated queries: ['1. 我国税收策略的主要内容是什么？', '2. 国家的税收策略是如何制定的？', '3. 税收策略对国家财政收入有什么影响？', '4. 不同国家的税收策略有何不同？', '5. 税收策略在国际贸易中起什么作用？']\n"
     ]
    },
    {
     "data": {
      "text/plain": [
       "14"
      ]
     },
     "execution_count": 44,
     "metadata": {},
     "output_type": "execute_result"
    }
   ],
   "source": [
    "retriever = MultiQueryRetriever(\n",
    "    retriever=vectorstore.as_retriever(), llm_chain=llm_chain, parser_key=\"lines\"\n",
    ")  # \"lines\" is the key (attribute name) of the parsed output\n",
    "\n",
    "# Results\n",
    "docs = retriever.get_relevant_documents(\n",
    "    query=question\n",
    ")\n",
    "len(docs)"
   ]
  },
  {
   "cell_type": "code",
   "execution_count": 45,
   "metadata": {},
   "outputs": [],
   "source": [
    "from langchain.chains import TransformChain\n",
    "\n",
    "def retrieval_transform(inputs: dict) -> dict:\n",
    "    docs = retriever.get_relevant_documents(query=inputs[\"question\"])\n",
    "    docs = [d.page_content for d in docs]\n",
    "    docs_dict = {\n",
    "        \"query\": inputs[\"question\"],\n",
    "        \"contexts\": \"\\n---\\n\".join(docs)\n",
    "    }\n",
    "    return docs_dict\n",
    "\n",
    "retrieval_chain = TransformChain(\n",
    "    input_variables=[\"question\"],\n",
    "    output_variables=[\"query\", \"contexts\"],\n",
    "    transform=retrieval_transform\n",
    ")"
   ]
  },
  {
   "cell_type": "code",
   "execution_count": 48,
   "metadata": {},
   "outputs": [],
   "source": [
    "retrieval_chain = TransformChain(\n",
    "    input_variables=[\"question\"],\n",
    "    output_variables=[\"query\", \"contexts\"],\n",
    "    transform=retrieval_transform\n",
    ")\n",
    "\n",
    "rag_chain = SequentialChain(\n",
    "    chains=[retrieval_chain, qa_chain],\n",
    "    input_variables=[\"question\"],  # we need to name differently to output \"query\"\n",
    "    output_variables=[\"query\", \"contexts\", \"text\"]\n",
    ")"
   ]
  },
  {
   "cell_type": "code",
   "execution_count": 49,
   "metadata": {},
   "outputs": [
    {
     "name": "stderr",
     "output_type": "stream",
     "text": [
      "INFO:langchain.retrievers.multi_query:Generated queries: ['1. 请问我国税收策略的主要目标是什么？', '2. 税收策略是如何影响国家经济的？', '3. 国家的税收策略是如何制定和实施的？', '4. 税收策略对不同阶层和行业的影响有何不同？', '5. 税收策略在国际比较中是如何看待的？']\n"
     ]
    },
    {
     "data": {
      "text/plain": [
       "'国家的税收策略是宏观调控的重要手段之一，其目的是通过调整税收量与度，协调好纳税个体与社会整体间的平衡关系，保障税收中性，采取一切有效的措施降低纳税人和社会承受的额外负担。在实际经济活动中，作为“理性经济人”的纳税人出于使自身经济利益最大化的目的，会将税收负担减轻作为首要目标。因此，国家的税收策略主要是通过调整税收结构，包括流转税和所得税等，来影响和调节经济活动，促进社会经济的发展，实现对经济的调节作用。'"
      ]
     },
     "execution_count": 49,
     "metadata": {},
     "output_type": "execute_result"
    }
   ],
   "source": [
    "out = rag_chain({\"question\": question})\n",
    "out[\"text\"]"
   ]
  }
 ],
 "metadata": {
  "kernelspec": {
   "display_name": "gpt",
   "language": "python",
   "name": "python3"
  },
  "language_info": {
   "codemirror_mode": {
    "name": "ipython",
    "version": 3
   },
   "file_extension": ".py",
   "mimetype": "text/x-python",
   "name": "python",
   "nbconvert_exporter": "python",
   "pygments_lexer": "ipython3",
   "version": "3.11.0"
  }
 },
 "nbformat": 4,
 "nbformat_minor": 2
}
