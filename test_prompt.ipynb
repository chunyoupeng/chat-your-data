{
 "cells": [
  {
   "cell_type": "code",
   "execution_count": 1,
   "metadata": {},
   "outputs": [],
   "source": [
    "from langchain.chains import RetrievalQA, ConversationalRetrievalChain\n",
    "from langchain.output_parsers import ResponseSchema\n",
    "from langchain.output_parsers import StructuredOutputParser\n",
    "from langchain.callbacks.manager import CallbackManager\n",
    "from langchain.prompts.prompt import PromptTemplate\n",
    "from langchain.vectorstores.base import VectorStoreRetriever\n",
    "from langchain.vectorstores.faiss import FAISS\n",
    "from langchain.chat_models import ChatOpenAI\n",
    "from langchain.chat_models import AzureChatOpenAI\n",
    "from langchain.llms import ChatGLM\n",
    "from langchain.chains import LLMChain\n",
    "from langchain.embeddings import HuggingFaceInstructEmbeddings\n",
    "from langchain.chains import RetrievalQAWithSourcesChain\n",
    "from langchain.memory import ConversationBufferMemory, ConversationSummaryMemory, ConversationBufferWindowMemory\n",
    "import pickle\n",
    "from langchain.document_loaders import JSONLoader\n",
    "import sys\n",
    "import os\n",
    "from dotenv import load_dotenv"
   ]
  },
  {
   "cell_type": "code",
   "execution_count": 2,
   "metadata": {},
   "outputs": [
    {
     "name": "stderr",
     "output_type": "stream",
     "text": [
      "/home/dell/miniconda3/envs/gpt/lib/python3.11/site-packages/InstructorEmbedding/instructor.py:7: TqdmExperimentalWarning: Using `tqdm.autonotebook.tqdm` in notebook mode. Use `tqdm.tqdm` instead to force console mode (e.g. in jupyter console)\n",
      "  from tqdm.autonotebook import trange\n"
     ]
    }
   ],
   "source": [
    "db_path = \"vector_src/mh_src-vectorstore.pkl\"\n",
    "with open(db_path, 'rb') as f:\n",
    "    db = pickle.load(f)\n",
    "# retriever = VectorStoreRetriever(vectorstore=db)\n",
    "retriever = db.as_retriever(search_type=\"mmr\", search_kwargs={'k': 8})\n"
   ]
  },
  {
   "cell_type": "code",
   "execution_count": 136,
   "metadata": {},
   "outputs": [
    {
     "name": "stdout",
     "output_type": "stream",
     "text": [
      "相关关键词2023/10/29雷雨天气条件下保障航空飞行安全的有效措施-中国期刊网https:///thesis/view/47660611/3\n",
      "民航安全一直是我国当局的工作重心，现代飞机航电系统交联关系复杂，系统高度集成，惯导系统又是高度精密的设备，其与飞机上的其他各项设备关联功能的完整性任需加强。\n",
      "编号南京航空航天大学毕业论文题目气象条件对于民航飞行安全的影响学生姓名奚晓迪学号070850605学院民航飞行学院专业飞行技术班级0708506指导教师陆中教授二零一叁年伍月贰拾日\n",
      "首页期刊导航论文中心期刊检索论文检索新闻中心恶劣天气对飞行安全的影响柴栋梁中国东方航空公司山西分公司山西省太原市030031摘要：恶劣天气对飞行安全的影响是巨大和致命性的，包括大风、云层、气压、气温、大气密度、雷电、冰雪等在内的恶劣天气均会对飞行安全产生极大的危害，严重时会引发空难。鉴于恶劣天气会导致飞行安全的控制工作遇到诸多的难题，因而一直以来航空公司均可以给予飞行安全高度的重视，这也是航空公司一直研究的重点问题。本文先对飞机安全飞行的重要性作简要分析，进而重点分析探究大风、云层、雷电、冰雪、雷雨、结冰对飞行安全的影响，最后提出降低恶劣天气对飞行安全的影响，确保飞行安全的策略。关键词：恶劣天气；飞行安全；气象环境天气是地球对动力、辐射、电能、水汽、气压的精巧平衡，之所以飞机飞行时格外注重天气因素，其原因就在于恶劣的天气会直接导致飞机处于极度危险的境地。每年因为恶劣天气所导致的民航事故可以占到总事故的四分之一到二分之一，每年因为恶劣天气所导致的航班延误和事故损失可以达到10亿美元以上。由此可以看出，恶劣天气对飞行\n",
      "首页期刊导航论文中心期刊检索论文检索新闻中心浅谈雷雨天气下民航飞行特点张芸民航贵州空管分局摘要：众所周知，民航在飞行时会受到天气和民航动能等多方面因素的影响，无形中加大民航飞行时出现安全事故的可能。而雷雨天气作为民航飞行时经常遇到的天气状况，在这种天气状况条件下对流层中大气运行稳定性较差，造成民航飞行稳定性下降，这对于民航飞行安全效果也有很大的影响。本文将对雷雨天气综合分析，并根据分析结果概述雷雨天气下民航飞行特点。关键词：雷雨天气；民航飞行；特点引言与其他交通工具相比，民航飞行高度多半在对流层这一高度范围内。这就导致民航飞行时经常会受到恶劣天气的干扰，造成民航飞行安全性下降，难以满足民航飞行安全要求。据不完全数据统计，民航在飞行过程中因雷电天气而出现的安全事故在所有安全事故当中占据极高的比重。这就应加强雷电电气的分析力度，同时深入研究雷电天气民航飞行特点。据此制定合理措施，控制雷电天气对民航飞行产生的影响。1雷电天气由于雷电天气对民航飞行安全效果有一定影响，这就应加强雷电天气分析力度，借以保证相关人员对雷电天气特\n",
      "息的通知流程。值班前，管制员要做好充分的工作，事先到自己的位置，充分掌握雷达图，熟悉当前的气象条件，准确牢记流量控制、空军活动等方面的需求，并随时观察交接管制员的控制和指挥工作，及时落实岗前准备，以保障飞机飞行安全。23加大对天气的观察力度并及时上报其中管制员需要对飞行中飞机的实时情况进行管制和指挥，应及时向上级领导汇报所有飞机在飞行中的天气情况和飞行情况。如果遇到极端恶劣天气时，飞行员或偏离预先设计出的飞行方案，此时需要管制员实时关注飞行方向，并随时与飞行员进行沟通，确保能够收集到飞机在每一时间内的具体位置信息，在对飞机飞行位置进行深入分析后，需要再次确定出在雷雨天气下的飞行方案，并及时告知飞行员，调整飞行速度、方向、位置等，最终来保证飞机教学与研究2022年13期首页>《教学与研究》>2022年13期>雷雨天气中电击对飞行的影响及对策请输入关键词期刊（整期优先）网络出版时间：2022-10-20作者:耿海周新辉文化科学>教育学分享打印同系列资源1/2来源期刊\n",
      "打印同系列资源1/2来源期刊雷雨天气对飞机飞行的影响及安全管控浅谈雷雨天气下民航飞行特点探析雷雨天气对民航航班的影响与优化对策雷雨天气条件下保障航空飞行安全的有效措施雷雨天气对民航通信导航监视设备的影响及保障措施相关推荐同分类资源更多[教育学]小学低年级语文汉字教学问题探究[教育学]新课程下的农村高中英语课堂教学[教育学]从生活中来，回数学中去[教育学]如何通过阅读提高英语写作能力[教育学]读者寄来的难题雷雨天气电击飞行影响对策相关关键词2023/10/29雷雨天气中电击对飞行的影响及对策-中国期刊网https:///thesis/view/65267251/3\n",
      "在雷暴区起飞和降落，则要高度重视低空风切变的影响，充分确保飞行安全。结语各类恶劣天气对飞机飞行的安全性有很大的影响，为确保飞行的安全性，必须对影响飞机安全飞行的恶劣天气做到针对性预防，尽量避免在恶劣天气时飞行。为很好的提升飞行安全，要重点做好强化气象预测能力、提升飞行员的综合素养、加强恶劣天气下的飞行管制力度单方面的工作。参考文献[1]李纯柱非常规天气下航空器飞行的改航策略研究[J]中国民航大学学报,2020,38(05):5-9[2]李浩一次雷雨天气过程分析及对飞行的影响[J]南方农机,2020,51(01):233[3]郑洁试论区域性复杂天气对民航飞机起降的影响及保障措施[J]科技创新导报,2020,17(07):4+6同系列内容查看全部《科学与技术》2021年05期-新时期国有企业财务管理信息化建设的思考2021-07-231《科学与技术》2021年05期-机电工程等电位联结作用及施工质量控制2021-07-232《科学与技术》2021年05期-建筑暖通工程的施工质量管理与控制2021-07-233《科学与技术》2021年05期-关于土木工程建筑施工技术创新研究2021-07-234《科学与技术》2021年05期-水源热泵在空调系统中的应用2021-07-235关于我们\n",
      "2441\n"
     ]
    }
   ],
   "source": [
    "docs = retriever.get_relevant_documents(query=\"电天气下民航飞机的飞行风险及预防措施分析中的国内外研究进展有哪些?\")\n",
    "content = \"\\n\".join([doc.page_content for doc in docs])\n",
    "print(content)\n",
    "print(len(content))"
   ]
  },
  {
   "cell_type": "code",
   "execution_count": null,
   "metadata": {},
   "outputs": [],
   "source": []
  },
  {
   "cell_type": "code",
   "execution_count": 159,
   "metadata": {},
   "outputs": [
    {
     "name": "stdout",
     "output_type": "stream",
     "text": [
      "\n",
      " 在分析雷电天气下民航飞机的飞行风险及预防措施时，我们需要先了解雷电天气对飞机飞行安全的影响。雷电天气是一种极端的气象现象，具有很高的危险性。当飞机处于雷电天气中时，可能会遭受闪电击、雷击、电磁干扰等多种影响，这些影响可能导致飞机设备损坏、飞行数据丢失、机组人员受伤甚至死亡等严重后果（张芸，2016）。因此，在雷电天气下，民航飞机的飞行风险非常高，需要采取一系列预防措施来降低风险（耿海周新辉，2022）。\n",
      "\n",
      "在实际操作中，飞行员需要根据气象预报和实况，提前规划飞行路线，避开雷电天气区域。此外，飞行员还需要定期进行雷电天气应对培训，熟悉各种应对策略和紧急处理方法，以便在遇到突发情况时能够迅速做出反应（李浩，2020）。同时，航空公司也可以通过购买保险来分散风险，减轻因雷电天气引发的损失（李纯柱，2020）。\n",
      "\n",
      "在预防和应对雷电天气的过程中，气象部门的作用同样重要。他们需要提高气象预报的准确性和时效性，为航空公司和飞行员提供及时、可靠的信息支持。此外，气象部门还应该加强对雷电天气的研究，探索更加有效的预警手段和防范措施，以保障民航飞行安全（郑洁，2020）。\n",
      "\n",
      "综上所述，在雷电天气下，民航飞机的飞行风险较高。为了降低风险，航空公司需要采取一系列预防措施，包括提前规划飞行路线、加强飞行员培训、购买保险等。同时，气象部门也需要提高气象预报的准确性和时效性，加强研究雷电天气，为民航飞行提供有力保障。\n"
     ]
    }
   ],
   "source": [
    "from gc import set_debug\n",
    "from langchain.chains import ConversationChain\n",
    "from langchain.chains import LLMChain\n",
    "from langchain.schema import StrOutputParser\n",
    "from langchain.llms import OpenAI\n",
    "from langchain.globals import set_verbose\n",
    "from langchain.chains.question_answering import load_qa_chain\n",
    "from langchain.prompts import ChatPromptTemplate\n",
    "from pyparsing import quotedString\n",
    "from query_data import get_llm\n",
    "from langchain.schema.runnable import RunnablePassthrough, RunnableLambda\n",
    "from langchain.callbacks.streaming_stdout import StreamingStdOutCallbackHandler\n",
    "# from langchain import LCEL\n",
    "import logging\n",
    "set_verbose(True)\n",
    "logger = logging.getLogger(__name__)\n",
    "logger.setLevel(logging.DEBUG)\n",
    "llm = ChatOpenAI(\n",
    "    model=\"gpt-3.5-turbo\",\n",
    "    openai_api_base=\"http://localhost:8000/v1\",\n",
    "    openai_api_key=\"EMPTY\",\n",
    "    max_tokens=8000,\n",
    "    temperature=0.1,\n",
    "    streaming=True,\n",
    "    callbacks=[StreamingStdOutCallbackHandler()]\n",
    ")\n",
    "# llm = ChatOpenAI(\n",
    "#     openai_api_base=\"https://aiapi.xing-yun.cn/v1\",\n",
    "#     openai_api_key=\"sk-3e5wTBAl2iFDvQvW9b5693C90a97425eBf3b4bEa558eC66a\",\n",
    "#     temperature=0.1,\n",
    "#     model_name=\"gpt-3.5-turbo\",\n",
    "#     streaming=True,  # ! important\n",
    "#     callbacks=[StreamingStdOutCallbackHandler()]  # ! important\n",
    "# )\n",
    "\n",
    "\n",
    "# <step 1> 提取出所有的文章名/作者名/数据/时间等,你的回答必须包函这些数据\n",
    "# <step 2> 根据你所知道的全部信息和相关的提问,整理出一大段有用的信息.\n",
    "docs = retriever.get_relevant_documents(query=\"电天气下民航飞机的飞行风险及预防措施分析中的国内外研究进展有哪些?\")\n",
    "content = \"\\n\".join([doc.page_content for doc in docs])\n",
    "template_zh = \"\"\"\n",
    "### Instruction ###\n",
    "您是一个很能写的写作助手,写的文章字数又多,文章又优美.能够根据下面<context>中的所有信息写出文章.\n",
    "多引用背景材料, 对每一个例子都要有具体的分析, 避免出现总结性的语句.如果出现相关的数据,作者名,文章名,必须要全部引用出来 .不能漏掉. \n",
    "如果您不知道答案,只需说“嗯,我不确定”。不要试图编造答案。\n",
    "写作风格符合常见的中文学术写作风格。要包函<context>中的所有内容.\n",
    "<context>\n",
    "背景: {context}\n",
    "<context/>\n",
    "用中文输出.1000字\n",
    "\"\"\"\n",
    "import logging\n",
    "\n",
    "logging.basicConfig()\n",
    "logging.getLogger(\"langchain.retrievers\").setLevel(logging.INFO)\n",
    "question = \"雷电天气下民航飞机的飞行风险及预防措施分析中背景?\"\n",
    "# question = \"科学与技术讲了什么\"\n",
    "# q = \"在上述文本中提取出有用的信息\"\n",
    "# context = \"在雷电天气下，民航飞机的飞行面临着一定的风险。为了确保飞行安全，需要对雷电天气下的飞行风险进行分析，并制定相应的预防措施。本研究旨在探讨雷电天气对民航飞机飞行的影响，并研究相关的飞行风险和预防措施。\"\n",
    "\n",
    "prompt = ChatPromptTemplate.from_template(template=template_zh)\n",
    "# model = ConversationChain(llm=llm)\n",
    "llm = get_llm('local')\n",
    "template = \"\"\"Answer the question based only on the following context:\n",
    "<context>\n",
    "{context}\n",
    "</context>\"\"\"\n",
    "ANSWER_PROMPT = ChatPromptTemplate.from_messages(\n",
    "    [\n",
    "        (\"system\", template_zh),\n",
    "        (\"user\", \"{question}\"),\n",
    "    ]\n",
    ")\n",
    "from langchain.chains import RetrievalQA\n",
    "chain_type_kwargs = {\"prompt\": ANSWER_PROMPT}\n",
    "qa = RetrievalQA.from_chain_type(llm, chain_type=\"stuff\", retriever=retriever, chain_type_kwargs=chain_type_kwargs)\n",
    "chain = ANSWER_PROMPT | llm | StrOutputParser()\n",
    "# chain = (\n",
    "#     {\"context\": retriever, \"question\": RunnablePassthrough()}\n",
    "#     | ANSWER_PROMPT\n",
    "#     | llm \n",
    "#     | StrOutputParser()\n",
    "# )\n",
    "# output=chain.invoke(question)\n",
    "output = chain.invoke({\"context\":content, \"question\": question})\n",
    "# qa.run(question)\n",
    "print(output)"
   ]
  },
  {
   "cell_type": "code",
   "execution_count": 153,
   "metadata": {},
   "outputs": [
    {
     "data": {
      "text/plain": [
       "'\\n 1. 在雷电天气下，为什么民航飞机的飞行会面临风险？\\n2. 有哪些具体的气象条件可能导致雷电天气的出现？\\n3. 在雷电天气下，为民航飞机的飞行采取哪些预防措施可以降低风险？\\n4. 对于已经发生的雷电天气导致的事故，有哪些教训和经验可供借鉴？\\n5. 如何通过科技手段来监测和预警雷电天气，以提高民航飞机的安全性？'"
      ]
     },
     "execution_count": 153,
     "metadata": {},
     "output_type": "execute_result"
    }
   ],
   "source": [
    "\n",
    "question_generator_template = \"\"\"\n",
    "Take deep and think step by step.\n",
    "现在你是一个提问小助手, 你非常善于提问,但不会回答问题.你的任务是根据下面提供的问题将问题进行扩展, 制造出更多的问题,用来指导写作.只提出5个问题就可以了.要从不同的角度去提问,\n",
    "因为我想得到不同观点的相关信息.\n",
    "=========\n",
    "你输出的是一系列的问题而不是分析.要以问号结尾.参考如下问题:\n",
    "Template:\n",
    "<Question>: 什么叫废物固体处理?我们可以从废物固处理得到什么?\n",
    "<Output>:\n",
    "    1. 废物固体处理的定义是什么，它与其他废物处理方式有何不同？\n",
    "    2. 废物固体处理的历史背景和发展是怎样的？\n",
    "    3. 哪些因素促使我们需要对废物固体进行处理？\n",
    "    4. 废物固体处理的各个阶段包括哪些步骤？\n",
    "    5. 哪些技术和方法常用于废物固体处理？\n",
    "=========\n",
    "Question是: {question}\n",
    "<Output>:\n",
    "\"\"\"\n",
    "\n",
    "question_generator = PromptTemplate.from_template(question_generator_template)\n",
    "chain = question_generator | llm | StrOutputParser()\n",
    "chain.invoke({\"question\":question})"
   ]
  },
  {
   "cell_type": "code",
   "execution_count": 175,
   "metadata": {},
   "outputs": [
    {
     "name": "stdout",
     "output_type": "stream",
     "text": [
      "\n",
      "\n",
      "\u001b[1m> Entering new LLMChain chain...\u001b[0m\n",
      "Prompt after formatting:\n",
      "\u001b[32;1m\u001b[1;3m\n",
      "你的任务是把下面的陈述句改成一个有启发性的疑问句,只输出疑问句:\n",
      "陈述句:雷电天气下民航飞机的飞行风险及预防措施分析中, 研究背景\n",
      "疑问句:\n",
      "\u001b[0m\n",
      "\n",
      "\u001b[1m> Finished chain.\u001b[0m\n"
     ]
    },
    {
     "data": {
      "text/plain": [
       "'在分析雷电天气下民航飞机的飞行风险及预防措施的研究背景时，我们应该考虑哪些关键因素？'"
      ]
     },
     "execution_count": 175,
     "metadata": {},
     "output_type": "execute_result"
    }
   ],
   "source": [
    "\n",
    "question_generator_template = \"\"\"\n",
    "你的任务是把下面的陈述句改成一个有启发性的疑问句,只输出疑问句:\n",
    "陈述句:{question}\n",
    "疑问句:\n",
    "\"\"\"\n",
    "openai_llm = ChatOpenAI(\n",
    "    openai_api_base=\"https://aiapi.xing-yun.cn/v1\",\n",
    "    openai_api_key=\"sk-3e5wTBAl2iFDvQvW9b5693C90a97425eBf3b4bEa558eC66a\",\n",
    "    temperature=0.0,\n",
    "    model_name=\"gpt-4\",\n",
    "    # streaming=True,  # ! important\n",
    "    # callbacks=[StreamingStdOutCallbackHandler()]  # ! important\n",
    ")\n",
    "question_generator = PromptTemplate(template=question_generator_template, input_variables=[\"question\"])\n",
    "# chain = question_generator | llm | StrOutputParser()\n",
    "# chain.invoke({\"question\":question})\n",
    "question = \"雷电天气下民航飞机的飞行风险及预防措施分析中, 研究背景\"\n",
    "sentence_change_chain = LLMChain(prompt=question_generator, llm=openai_llm)\n",
    "sentence_change_chain.run(question=question)"
   ]
  },
  {
   "cell_type": "code",
   "execution_count": 51,
   "metadata": {},
   "outputs": [
    {
     "data": {
      "text/plain": [
       "ChatOpenAI(callbacks=[<langchain.callbacks.streaming_stdout.StreamingStdOutCallbackHandler object at 0x7f210b6296d0>], client=<class 'openai.api_resources.chat_completion.ChatCompletion'>, temperature=0.1, openai_api_key='EMPTY', openai_api_base='http://localhost:8000/v1', openai_organization='', openai_proxy='', streaming=True, max_tokens=8000)"
      ]
     },
     "execution_count": 51,
     "metadata": {},
     "output_type": "execute_result"
    }
   ],
   "source": [
    "get_llm('local')\n"
   ]
  },
  {
   "cell_type": "code",
   "execution_count": null,
   "metadata": {},
   "outputs": [],
   "source": [
    "import os\n",
    "from operator import itemgetter\n",
    "from typing import List, Tuple\n",
    "from langchain.globals import set_verbose\n",
    "from langchain.chat_models import ChatOpenAI\n",
    "from langchain.prompts import ChatPromptTemplate, MessagesPlaceholder\n",
    "from langchain.prompts.prompt import PromptTemplate\n",
    "from langchain.schema import AIMessage, HumanMessage, format_document\n",
    "from langchain.schema.output_parser import StrOutputParser\n",
    "from langchain.schema.runnable import (\n",
    "    RunnableBranch,\n",
    "    RunnableLambda,\n",
    "    RunnableMap,\n",
    "    RunnablePassthrough,\n",
    ")\n",
    "from pydantic import BaseModel, Field\n",
    "set_verbose(True)\n",
    "_template = \"\"\"Given the following conversation and a follow up question, rephrase the follow up question to be a standalone question, in its original language.\n",
    "Chat History:\n",
    "{chat_history}\n",
    "Follow Up Input: {question}\n",
    "Standalone question:\"\"\"  # noqa: E501\n",
    "CONDENSE_QUESTION_PROMPT = PromptTemplate.from_template(_template)\n",
    "\n",
    "# RAG answer synthesis prompt\n",
    "template = \"\"\"Answer the question based only on the following context:\n",
    "<context>\n",
    "{context}\n",
    "</context>\"\"\"\n",
    "ANSWER_PROMPT = ChatPromptTemplate.from_messages(\n",
    "    [\n",
    "        (\"system\", template),\n",
    "        MessagesPlaceholder(variable_name=\"chat_history\"),\n",
    "        (\"user\", \"{question}\"),\n",
    "    ]\n",
    ")\n",
    "\n",
    "# Conversational Retrieval Chain\n",
    "DEFAULT_DOCUMENT_PROMPT = PromptTemplate.from_template(template=\"{page_content}\")\n",
    "\n",
    "\n",
    "def _combine_documents(\n",
    "    docs, document_prompt=DEFAULT_DOCUMENT_PROMPT, document_separator=\"\\n\\n\"\n",
    "):\n",
    "    doc_strings = [format_document(doc, document_prompt) for doc in docs]\n",
    "    return document_separator.join(doc_strings)\n",
    "\n",
    "\n",
    "def _format_chat_history(chat_history: List[Tuple[str, str]]) -> List:\n",
    "    buffer = []\n",
    "    for human, ai in chat_history:\n",
    "        print(f\"human{human}, ai:{ai}\")\n",
    "        buffer.append(HumanMessage(content=human))\n",
    "        buffer.append(AIMessage(content=ai))\n",
    "    print(buffer)\n",
    "    return buffer\n",
    "\n",
    "\n",
    "# User input\n",
    "class ChatHistory(BaseModel):\n",
    "    chat_history: List[Tuple[str, str]]\n",
    "    question: str\n",
    "\n",
    "\n",
    "_search_query = RunnableBranch(\n",
    "    # If input includes chat_history, we condense it with the follow-up question\n",
    "    (\n",
    "        RunnableLambda(lambda x: bool(x.get(\"chat_history\"))).with_config(\n",
    "            run_name=\"HasChatHistoryCheck\"\n",
    "        ),  # Condense follow-up question and chat into a standalone_question\n",
    "        RunnablePassthrough.assign(\n",
    "            chat_history=lambda x: _format_chat_history(x[\"chat_history\"])\n",
    "        )\n",
    "        | CONDENSE_QUESTION_PROMPT\n",
    "        | ChatOpenAI(temperature=0)\n",
    "        | StrOutputParser(),\n",
    "    ),\n",
    "    # Else, we have no chat history, so just pass through the question\n",
    "    RunnableLambda(itemgetter(\"question\")),\n",
    ")\n",
    "\n",
    "_inputs = RunnableMap(\n",
    "    {\n",
    "        \"question\": lambda x: x[\"question\"],\n",
    "        \"chat_history\": lambda x: _format_chat_history(x[\"chat_history\"]),\n",
    "        \"context\": _search_query | retriever | _combine_documents,\n",
    "    }\n",
    ").with_types(input_type=ChatHistory)\n",
    "openai_llm = ChatOpenAI(\n",
    "    openai_api_base=\"https://aiapi.xing-yun.cn/v1\",\n",
    "    openai_api_key=\"sk-3e5wTBAl2iFDvQvW9b5693C90a97425eBf3b4bEa558eC66a\",\n",
    "    temperature=0.1,\n",
    "    model_name=\"gpt-4\",\n",
    ")\n",
    "chain = _inputs | ANSWER_PROMPT | llm | StrOutputParser()\n",
    "\n",
    "chat_history = [(\"hi\", \"hello\")]\n",
    "answer = chain.invoke(\n",
    "    {\n",
    "        \"question\":question,\n",
    "        \"chat_history\":[(\"hi\",\"AIMessage\")]\n",
    "    }\n",
    ")"
   ]
  },
  {
   "cell_type": "code",
   "execution_count": null,
   "metadata": {},
   "outputs": [],
   "source": []
  },
  {
   "cell_type": "code",
   "execution_count": 79,
   "metadata": {},
   "outputs": [
    {
     "data": {
      "text/plain": [
       "'\\n 在雷电天气下，民航飞机的飞行风险增加，这对民航飞行安全提出了挑战。根据提供的背景资料，我们可以了解到以下几点：\\n\\n1. 雷雨天气对飞机飞行的影响：雷雨天气会对民航飞行产生负面影响，如降低飞行稳定性、增大飞行误差、引发设备故障等，从而增加飞行安全风险。\\n\\n2. 民航飞行中雷电天气的安全事故比例较高：据统计，民航在飞行过程中因雷电天气而出现的安全事故在所有安全事故中占比较高，这进一步强调了加强雷电天气下民航飞行安全研究的必要性。\\n\\n3. 现有防雷技术及措施存在不足：针对雷电天气下民航飞机的飞行风险，目前采用的防雷技术和措施仍存在一定的局限性，需要不断研究和改进。\\n\\n因此，在雷电天气下民航飞机的飞行风险及预防措施分析中，我们需要对这些问题进行深入研究，以期提出有效的解决方案，保障民航飞行安全。'"
      ]
     },
     "execution_count": 79,
     "metadata": {},
     "output_type": "execute_result"
    }
   ],
   "source": [
    "answer"
   ]
  },
  {
   "cell_type": "code",
   "execution_count": 80,
   "metadata": {},
   "outputs": [
    {
     "name": "stdout",
     "output_type": "stream",
     "text": [
      "\n",
      " 在雷电天气下，民航飞机的飞行风险增加，这对民航飞行安全提出了挑战。根据提供的背景资料，我们可以了解到以下几点：\n",
      "\n",
      "1. 雷雨天气对飞机飞行的影响：雷雨天气会对民航飞行产生负面影响，如降低飞行稳定性、增大飞行误差、引发设备故障等，从而增加飞行安全风险。\n",
      "\n",
      "2. 民航飞行中雷电天气的安全事故比例较高：据统计，民航在飞行过程中因雷电天气而出现的安全事故在所有安全事故中占比较高，这进一步强调了加强雷电天气下民航飞行安全研究的必要性。\n",
      "\n",
      "3. 现有防雷技术及措施存在不足：针对雷电天气下民航飞机的飞行风险，目前采用的防雷技术和措施仍存在一定的局限性，需要不断研究和改进。\n",
      "\n",
      "因此，在雷电天气下民航飞机的飞行风险及预防措施分析中，我们需要对这些问题进行深入研究，以期提出有效的解决方案，保障民航飞行安全。\n"
     ]
    }
   ],
   "source": [
    "print(answer)"
   ]
  },
  {
   "cell_type": "code",
   "execution_count": 50,
   "metadata": {},
   "outputs": [],
   "source": [
    "from langchain.document_loaders import JSONLoader\n",
    "from langchain.globals import set_verbose\n",
    "set_verbose(True)\n",
    "_template = \"\"\"\n",
    "<信息>{context}</信息>\n",
    "根据上面的信息, 写出关于雷电天气下民航飞机的飞行风险及预防措施分析的研究目的, 只写一个段落, 作为论文的一部份.要具体的分析,有相关的作者,文献,数据就要提出来详细说明.\n",
    "请用一种连贯的叙述方式来阐述你的观点和论据。请用丰富的词汇和多样的句式来表达你的观点,让你的回答更具可读性.\n",
    "\"\"\"\n",
    "question = \"雷电天气下民航飞机的飞行风险及预防措施分析中, 研究目的是什么?\"\n",
    "\n",
    "filename = \"out/mh_src.json\"\n",
    "loader = JSONLoader(\n",
    "    file_path=filename,\n",
    "    jq_schema='.[].answer',\n",
    "    text_content=False\n",
    ")\n",
    "docs = loader.load()\n"
   ]
  },
  {
   "cell_type": "code",
   "execution_count": 60,
   "metadata": {},
   "outputs": [
    {
     "name": "stderr",
     "output_type": "stream",
     "text": [
      "No sentence-transformers model found with name ../models/stella-large-zh-v2. Creating a new one with MEAN pooling.\n"
     ]
    }
   ],
   "source": [
    "from langchain.embeddings import HuggingFaceInstructEmbeddings\n",
    "from langchain.vectorstores.faiss import FAISS\n",
    "embedding = HuggingFaceInstructEmbeddings(\n",
    "    model_name=\"../models/stella-large-zh-v2\"\n",
    ")\n",
    "db = FAISS.from_documents(docs, embedding)\n",
    "\n",
    "retriever = db.as_retriever(search_type=\"mmr\", search_kwargs={'k': 2, 'lambda_mult': 0.15})\n"
   ]
  },
  {
   "cell_type": "code",
   "execution_count": 9,
   "metadata": {},
   "outputs": [
    {
     "ename": "NameError",
     "evalue": "name 'question' is not defined",
     "output_type": "error",
     "traceback": [
      "\u001b[0;31m---------------------------------------------------------------------------\u001b[0m",
      "\u001b[0;31mNameError\u001b[0m                                 Traceback (most recent call last)",
      "\u001b[1;32m/home/dell/Project/chat-your-data/test_prompt.ipynb Cell 15\u001b[0m line \u001b[0;36m1\n\u001b[0;32m----> <a href='vscode-notebook-cell:/home/dell/Project/chat-your-data/test_prompt.ipynb#X20sZmlsZQ%3D%3D?line=0'>1</a>\u001b[0m info \u001b[39m=\u001b[39m retriever\u001b[39m.\u001b[39mget_relevant_documents(query\u001b[39m=\u001b[39mquestion)\n\u001b[1;32m      <a href='vscode-notebook-cell:/home/dell/Project/chat-your-data/test_prompt.ipynb#X20sZmlsZQ%3D%3D?line=1'>2</a>\u001b[0m content\u001b[39m=\u001b[39m\u001b[39m'\u001b[39m\u001b[39m\\n\u001b[39;00m\u001b[39m'\u001b[39m\u001b[39m.\u001b[39mjoin([i\u001b[39m.\u001b[39mpage_content \u001b[39mfor\u001b[39;00m i \u001b[39min\u001b[39;00m info])\n\u001b[1;32m      <a href='vscode-notebook-cell:/home/dell/Project/chat-your-data/test_prompt.ipynb#X20sZmlsZQ%3D%3D?line=2'>3</a>\u001b[0m \u001b[39mprint\u001b[39m(\u001b[39mlen\u001b[39m(content))\n",
      "\u001b[0;31mNameError\u001b[0m: name 'question' is not defined"
     ]
    }
   ],
   "source": [
    "info = retriever.get_relevant_documents(query=question)\n",
    "content='\\n'.join([i.page_content for i in info])\n",
    "print(len(content))\n",
    "print(content)"
   ]
  },
  {
   "cell_type": "code",
   "execution_count": 8,
   "metadata": {},
   "outputs": [],
   "source": [
    "prompt = PromptTemplate.from_template(_template)\n",
    "from langchain.schema.output_parser import StrOutputParser\n",
    "from query_data import get_llm\n",
    "llm = get_llm('openai_3')\n",
    "chain = prompt | llm | StrOutputParser()\n"
   ]
  },
  {
   "cell_type": "code",
   "execution_count": 52,
   "metadata": {},
   "outputs": [
    {
     "name": "stdout",
     "output_type": "stream",
     "text": [
      "雷电天气下民航飞机的飞行风险及预防措施的研究旨在深入分析雷电天气对民航飞机的影响，并提出有效的预防措施，以提高飞行安全水平。首先，通过研究雷电天气对飞机设备、飞行性能和导航系统等方面的损害，可以揭示雷电天气对飞机的物理规律和本质特征。其次，研究飞行员和地面人员在遇到雷电天气时的应对能力和心理承受能力，可以为相关培训和教育措施的制定提供科学依据。另外，研究气象预报和预警系统的准确性问题，可以提高预报和预警的准确性，及时向飞行员和地面人员发布警报。此外，研究针对雷电天气引发的飞行事故的应急预案和救援措施，可以提供有效的应对措施。最后，关注航空航天领域的技术研发和创新，例如飞行器防雷技术和天气预测技术，可以降低雷电天气对民航飞行的影响。通过对这些关键因素和问题的深入研究，我们可以为实际操作提供有效的建议和指导，提高民航飞行的安全性和可靠性。\n"
     ]
    }
   ],
   "source": [
    "out = chain.invoke({\"context\": content})\n",
    "print(out)"
   ]
  },
  {
   "cell_type": "code",
   "execution_count": 7,
   "metadata": {},
   "outputs": [
    {
     "ename": "NameError",
     "evalue": "name 'content' is not defined",
     "output_type": "error",
     "traceback": [
      "\u001b[0;31m---------------------------------------------------------------------------\u001b[0m",
      "\u001b[0;31mNameError\u001b[0m                                 Traceback (most recent call last)",
      "\u001b[1;32m/home/dell/Project/chat-your-data/test_prompt.ipynb Cell 18\u001b[0m line \u001b[0;36m1\n\u001b[1;32m     <a href='vscode-notebook-cell:/home/dell/Project/chat-your-data/test_prompt.ipynb#X23sZmlsZQ%3D%3D?line=15'>16</a>\u001b[0m write_prompt \u001b[39m=\u001b[39m PromptTemplate\u001b[39m.\u001b[39mfrom_template(temp)\n\u001b[1;32m     <a href='vscode-notebook-cell:/home/dell/Project/chat-your-data/test_prompt.ipynb#X23sZmlsZQ%3D%3D?line=16'>17</a>\u001b[0m write_chain \u001b[39m=\u001b[39m write_prompt \u001b[39m|\u001b[39m llm \u001b[39m|\u001b[39m StrOutputParser()\n\u001b[0;32m---> <a href='vscode-notebook-cell:/home/dell/Project/chat-your-data/test_prompt.ipynb#X23sZmlsZQ%3D%3D?line=17'>18</a>\u001b[0m rt \u001b[39m=\u001b[39m write_chain\u001b[39m.\u001b[39minvoke({\u001b[39m\"\u001b[39m\u001b[39mcontext\u001b[39m\u001b[39m\"\u001b[39m: content, \u001b[39m\"\u001b[39m\u001b[39mtext\u001b[39m\u001b[39m\"\u001b[39m:out})\n\u001b[1;32m     <a href='vscode-notebook-cell:/home/dell/Project/chat-your-data/test_prompt.ipynb#X23sZmlsZQ%3D%3D?line=18'>19</a>\u001b[0m \u001b[39mprint\u001b[39m(rt)\n",
      "\u001b[0;31mNameError\u001b[0m: name 'content' is not defined"
     ]
    }
   ],
   "source": [
    "from query_data import get_llm\n",
    "\n",
    "llm = ChatOpenAI(\n",
    "    openai_api_base=\"https://aiapi.xing-yun.cn/v1\",\n",
    "    openai_api_key=\"sk-3e5wTBAl2iFDvQvW9b5693C90a97425eBf3b4bEa558eC66a\",\n",
    "    temperature=0.25,\n",
    "    model_name=\"gpt-3.5-turbo\",\n",
    "    # streaming=True,  # ! important\n",
    "    # callbacks=[StreamingStdOutCallbackHandler()]  # ! important\n",
    ")\n",
    "temp = \"\"\"\n",
    "原文:\n",
    "{text}\n",
    "\n",
    "对原文扩写,只写一个段落, 作为论文关于雷电天气下民航飞机的飞行风险及预防措施分析的研究目的的一部份，并引用相关的具体研究和数据支持你的论点。\"\"\"\n",
    "write_prompt = PromptTemplate.from_template(temp)\n",
    "write_chain = write_prompt | llm | StrOutputParser()\n",
    "rt = write_chain.invoke({\"context\": content, \"text\":out})\n",
    "print(rt)\n"
   ]
  }
 ],
 "metadata": {
  "kernelspec": {
   "display_name": "Python 3 (ipykernel)",
   "language": "python",
   "name": "python3"
  },
  "language_info": {
   "codemirror_mode": {
    "name": "ipython",
    "version": 3
   },
   "file_extension": ".py",
   "mimetype": "text/x-python",
   "name": "python",
   "nbconvert_exporter": "python",
   "pygments_lexer": "ipython3",
   "version": "3.11.0"
  }
 },
 "nbformat": 4,
 "nbformat_minor": 4
}
