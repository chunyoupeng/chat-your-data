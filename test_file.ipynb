{
 "cells": [
  {
   "cell_type": "code",
   "execution_count": 2,
   "metadata": {},
   "outputs": [
    {
     "name": "stdout",
     "output_type": "stream",
     "text": [
      "----------------------PI endpoint url，用langchain的ChatOpanAI类初始化一个ChatGLM的chat模型\n",
      "from langchain.chat_models import ChatOpenAI\n",
      "llm = ChatOpenAI(\n",
      "        model=\"gpt-3.5-turbo\",\n",
      "        openai_api_base=\"http://localhost:8000/v1\",\n",
      "        openai_api_key=\"EMPTY\",\n",
      "        streaming=False,\n",
      "    )\n",
      "#使用会话实体内存，利用ChatGLM在会话过程中分析提到的实体(Entity)\n",
      "from langchain.chains.conversation.memory import ConversationEntityMemory\n",
      "from langchain.chains.conversation.prompt import ENTITY_MEMORY_CONVERSATION_TEMPLATE\n",
      "entity_memory = ConversationEntityMemory(llm=llm, k=5 )\n",
      "\n",
      "#生成会话链\n",
      "from langchain.chains import ConversationChain\n",
      "Conversation = ConversationChain(\n",
      "            llm=llm, \n",
      "            prompt=ENTITY_MEMORY_CONVERSATION_TEMPLATE,\n",
      "            memory=entity_memory,\n",
      "            verbose=True,\n",
      "        ) \n",
      "#开始测试\n",
      "print(Conversation.run(\"你好，我名字叫Loui，在清华工作\"))\n",
      "\n"
     ]
    }
   ],
   "source": [
    "with open(\"test.py\", \"r+\") as f:\n",
    "    f.write(\"----------------------\")\n",
    "with open(\"test.py\", \"r+\") as f:\n",
    "    content = f.read()\n",
    "print(content)"
   ]
  },
  {
   "cell_type": "code",
   "execution_count": 5,
   "metadata": {},
   "outputs": [
    {
     "name": "stdout",
     "output_type": "stream",
     "text": [
      "\n"
     ]
    }
   ],
   "source": [
    "f = open(\"hahha.txt\", \"w+\")\n",
    "f.write(\"----------------------\")\n",
    "c=f.read()\n",
    "f.close()\n",
    "print(c)"
   ]
  },
  {
   "cell_type": "code",
   "execution_count": 14,
   "metadata": {},
   "outputs": [
    {
     "name": "stdout",
     "output_type": "stream",
     "text": [
      "----------------------GeneratorExitGeneratorExitGeneratorExitGeneratorExitGeneratorExitGeneratorExitGeneratorExit\n"
     ]
    }
   ],
   "source": [
    "with open(\"hahha.txt\", \"a+\") as f:\n",
    "    f.seek(0)\n",
    "    c = f.read()\n",
    "    print(c)\n",
    "    f.write(\"GeneratorExit\")\n"
   ]
  },
  {
   "cell_type": "code",
   "execution_count": 17,
   "metadata": {},
   "outputs": [
    {
     "name": "stdout",
     "output_type": "stream",
     "text": [
      "[1] W. D. Nailor, “Weather-related delays at John F. Kennedy International Airport,” Journal of the Air Transport Association, vol. 36, no. 4, pp. 287-295, 2001.\n",
      "[2] S. Wang and Y. Liu, “Study on the impact of lightning weather on airport facilities and countermeasures,” Journal of Civil Aviation, vol. 29, no. 3, pp. 14-18, 2015.\n",
      "[1] 《中国民航飞行手册》\n",
      "[2] 《航空气象学》\n",
      "[3] 《民航安全与可持续发展报告》\n",
      "[4] 《航班运营管理》\n",
      "[5] 《飞行员的决策与行为》dddd\n",
      "[6] 《飞机飞行原理与操纵》\n",
      "[7] 《旅客服务与管理》\n",
      "[8] 《机场运行与管理》\n",
      "[9] 《民航安全与服务质量》\n"
     ]
    }
   ],
   "source": [
    "import re\n",
    "\n",
    "# 定义参考文献的字符串\n",
    "references = \"\"\"\n",
    "[1] W. D. Nailor, “Weather-related delays at John F. Kennedy International Airport,” Journal of the Air Transport Association, vol. 36, no. 4, pp. 287-295, 2001.\n",
    "[2] S. Wang and Y. Liu, “Study on the impact of lightning weather on airport facilities and countermeasures,” Journal of Civil Aviation, vol. 29, no. 3, pp. 14-18, 2015.\n",
    "[1] 《中国民航飞行手册》\n",
    "[2] 《航空气象学》\n",
    "[3] 《民航安全与可持续发展报告》\n",
    "[4] 《航班运营管理》\n",
    "[5] 《飞行员的决策与行为》dddd\n",
    "[6] 《飞机飞行原理与操纵》\n",
    "[7] 《旅客服务与管理》\n",
    "[8] 《机场运行与管理》\n",
    "[9] 《民航安全与服务质量》\n",
    "dddddddddddddddddddallal\n",
    "\"\"\"\n",
    "\n",
    "# 编译一个正则表达式模式，匹配方括号及其内容，后面跟着任意数量的非换行符\n",
    "pattern = re.compile(r'\\[\\d+\\].*?(?=\\n|$)')\n",
    "\n",
    "# 在文本中找到所有匹配的参考文献\n",
    "matches = pattern.findall(references)\n",
    "\n",
    "# 打印出找到的每个参考文献\n",
    "for match in matches:\n",
    "    print(match)\n"
   ]
  }
 ],
 "metadata": {
  "kernelspec": {
   "display_name": "gpt",
   "language": "python",
   "name": "python3"
  },
  "language_info": {
   "codemirror_mode": {
    "name": "ipython",
    "version": 3
   },
   "file_extension": ".py",
   "mimetype": "text/x-python",
   "name": "python",
   "nbconvert_exporter": "python",
   "pygments_lexer": "ipython3",
   "version": "3.11.0"
  }
 },
 "nbformat": 4,
 "nbformat_minor": 2
}
