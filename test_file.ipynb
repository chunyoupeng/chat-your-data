{
 "cells": [
  {
   "cell_type": "code",
   "execution_count": 2,
   "metadata": {},
   "outputs": [
    {
     "name": "stdout",
     "output_type": "stream",
     "text": [
      "----------------------PI endpoint url，用langchain的ChatOpanAI类初始化一个ChatGLM的chat模型\n",
      "from langchain.chat_models import ChatOpenAI\n",
      "llm = ChatOpenAI(\n",
      "        model=\"gpt-3.5-turbo\",\n",
      "        openai_api_base=\"http://localhost:8000/v1\",\n",
      "        openai_api_key=\"EMPTY\",\n",
      "        streaming=False,\n",
      "    )\n",
      "#使用会话实体内存，利用ChatGLM在会话过程中分析提到的实体(Entity)\n",
      "from langchain.chains.conversation.memory import ConversationEntityMemory\n",
      "from langchain.chains.conversation.prompt import ENTITY_MEMORY_CONVERSATION_TEMPLATE\n",
      "entity_memory = ConversationEntityMemory(llm=llm, k=5 )\n",
      "\n",
      "#生成会话链\n",
      "from langchain.chains import ConversationChain\n",
      "Conversation = ConversationChain(\n",
      "            llm=llm, \n",
      "            prompt=ENTITY_MEMORY_CONVERSATION_TEMPLATE,\n",
      "            memory=entity_memory,\n",
      "            verbose=True,\n",
      "        ) \n",
      "#开始测试\n",
      "print(Conversation.run(\"你好，我名字叫Loui，在清华工作\"))\n",
      "\n"
     ]
    }
   ],
   "source": [
    "with open(\"test.py\", \"r+\") as f:\n",
    "    f.write(\"----------------------\")\n",
    "with open(\"test.py\", \"r+\") as f:\n",
    "    content = f.read()\n",
    "print(content)"
   ]
  },
  {
   "cell_type": "code",
   "execution_count": 5,
   "metadata": {},
   "outputs": [
    {
     "name": "stdout",
     "output_type": "stream",
     "text": [
      "\n"
     ]
    }
   ],
   "source": [
    "f = open(\"hahha.txt\", \"w+\")\n",
    "f.write(\"----------------------\")\n",
    "c=f.read()\n",
    "f.close()\n",
    "print(c)"
   ]
  },
  {
   "cell_type": "code",
   "execution_count": 14,
   "metadata": {},
   "outputs": [
    {
     "name": "stdout",
     "output_type": "stream",
     "text": [
      "----------------------GeneratorExitGeneratorExitGeneratorExitGeneratorExitGeneratorExitGeneratorExitGeneratorExit\n"
     ]
    }
   ],
   "source": [
    "with open(\"hahha.txt\", \"a+\") as f:\n",
    "    f.seek(0)\n",
    "    c = f.read()\n",
    "    print(c)\n",
    "    f.write(\"GeneratorExit\")\n"
   ]
  }
 ],
 "metadata": {
  "kernelspec": {
   "display_name": "gpt",
   "language": "python",
   "name": "python3"
  },
  "language_info": {
   "codemirror_mode": {
    "name": "ipython",
    "version": 3
   },
   "file_extension": ".py",
   "mimetype": "text/x-python",
   "name": "python",
   "nbconvert_exporter": "python",
   "pygments_lexer": "ipython3",
   "version": "3.11.0"
  }
 },
 "nbformat": 4,
 "nbformat_minor": 2
}
